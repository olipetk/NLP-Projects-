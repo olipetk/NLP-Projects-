{
 "cells": [
  {
   "cell_type": "markdown",
   "metadata": {},
   "source": [
    "# MSDS_453 Final Project\n",
    "# Goodreads books review sentimental analysis\n",
    "# Oliver Petkovski\n"
   ]
  },
  {
   "cell_type": "code",
   "execution_count": 1,
   "metadata": {},
   "outputs": [],
   "source": [
    "import re\n",
    "import os\n",
    "import sys\n",
    "import numpy as np\n",
    "import pandas as pd\n",
    "import re,string\n",
    "from nltk.corpus import stopwords\n",
    "from nltk.stem import PorterStemmer\n",
    "from nltk.tokenize import word_tokenize \n",
    "from nltk.tokenize import RegexpTokenizer\n",
    "from nltk.stem.wordnet import WordNetLemmatizer\n",
    "from nltk import ngrams, FreqDist\n",
    "import nltk\n",
    "import matplotlib.pyplot as plt\n",
    "import seaborn as sns\n",
    "import re\n",
    "from urllib.parse import urlparse\n",
    "from string import punctuation\n",
    "# Import sklearn things\n",
    "from sklearn.feature_extraction.text import TfidfVectorizer\n",
    "from sklearn.model_selection import train_test_split\n",
    "from sklearn.model_selection import KFold, cross_validate, cross_val_score\n",
    "from sklearn.metrics import f1_score, mean_squared_error\n",
    "from sklearn.ensemble import RandomForestClassifier, RandomForestRegressor\n",
    "from sklearn.metrics import confusion_matrix, f1_score\n",
    "from tensorflow.keras.layers import Embedding, Input, Conv1D, MaxPooling1D, \\\n",
    "                                        GRU, Dropout, BatchNormalization, Dense, \\\n",
    "                                        Flatten, GlobalMaxPooling1D, Bidirectional, \\\n",
    "                                        LeakyReLU\n",
    "import tensorflow as tf\n",
    "from tensorflow.keras.models import Sequential\n",
    "from tensorflow.keras.optimizers import RMSprop, Adagrad, Adam, SGD\n",
    "from tensorflow.keras.preprocessing.text import Tokenizer\n",
    "from tensorflow.keras.preprocessing.sequence import pad_sequences\n",
    "from tensorflow.keras.utils import to_categorical\n",
    "from tensorflow.keras.layers import Input\n",
    "from tensorflow.keras.layers import Embedding"
   ]
  },
  {
   "cell_type": "code",
   "execution_count": 2,
   "metadata": {},
   "outputs": [],
   "source": [
    "import warnings\n",
    "warnings.filterwarnings('ignore')"
   ]
  },
  {
   "cell_type": "markdown",
   "metadata": {},
   "source": [
    "****IMPORT DATA*****"
   ]
  },
  {
   "cell_type": "code",
   "execution_count": 3,
   "metadata": {},
   "outputs": [],
   "source": [
    "#load the data\n",
    "data = pd.read_csv(r\"C:\\Users\\opw477\\OneDrive - Northwestern University\\Desktop\\MSDS_453\\venv4\\Final Project Files\\CSV\\book_reviews_20000.csv\")"
   ]
  },
  {
   "cell_type": "code",
   "execution_count": 4,
   "metadata": {},
   "outputs": [],
   "source": [
    "#data.head()"
   ]
  },
  {
   "cell_type": "markdown",
   "metadata": {},
   "source": [
    "***EXPLORE/CLEAN DATA***"
   ]
  },
  {
   "cell_type": "code",
   "execution_count": 5,
   "metadata": {},
   "outputs": [],
   "source": [
    "#remove non-essential columns\n",
    "data.drop(columns=['book_id', 'user_id', 'date_added', 'date_updated', 'read_at', 'started_at', 'n_votes', 'n_comments'], axis=1, inplace=True)"
   ]
  },
  {
   "cell_type": "code",
   "execution_count": 6,
   "metadata": {},
   "outputs": [
    {
     "name": "stdout",
     "output_type": "stream",
     "text": [
      "Len of dataset: 20007\n"
     ]
    },
    {
     "data": {
      "text/html": [
       "<div>\n",
       "<style scoped>\n",
       "    .dataframe tbody tr th:only-of-type {\n",
       "        vertical-align: middle;\n",
       "    }\n",
       "\n",
       "    .dataframe tbody tr th {\n",
       "        vertical-align: top;\n",
       "    }\n",
       "\n",
       "    .dataframe thead th {\n",
       "        text-align: right;\n",
       "    }\n",
       "</style>\n",
       "<table border=\"1\" class=\"dataframe\">\n",
       "  <thead>\n",
       "    <tr style=\"text-align: right;\">\n",
       "      <th></th>\n",
       "      <th>review_id</th>\n",
       "      <th>rating</th>\n",
       "      <th>review_text</th>\n",
       "    </tr>\n",
       "  </thead>\n",
       "  <tbody>\n",
       "    <tr>\n",
       "      <th>0</th>\n",
       "      <td>dfdbb7b0eb5a7e4c26d59a937e2e5feb</td>\n",
       "      <td>5</td>\n",
       "      <td>This is a special book. It started slow for ab...</td>\n",
       "    </tr>\n",
       "    <tr>\n",
       "      <th>1</th>\n",
       "      <td>a5d2c3628987712d0e05c4f90798eb67</td>\n",
       "      <td>3</td>\n",
       "      <td>Recommended by Don Katz. Avail for free in Dec...</td>\n",
       "    </tr>\n",
       "    <tr>\n",
       "      <th>2</th>\n",
       "      <td>2ede853b14dc4583f96cf5d120af636f</td>\n",
       "      <td>3</td>\n",
       "      <td>A fun, fast paced science fiction thriller. I ...</td>\n",
       "    </tr>\n",
       "    <tr>\n",
       "      <th>3</th>\n",
       "      <td>ced5675e55cd9d38a524743f5c40996e</td>\n",
       "      <td>0</td>\n",
       "      <td>Recommended reading to understand what is goin...</td>\n",
       "    </tr>\n",
       "    <tr>\n",
       "      <th>4</th>\n",
       "      <td>332732725863131279a8e345b63ac33e</td>\n",
       "      <td>4</td>\n",
       "      <td>I really enjoyed this book, and there is a lot...</td>\n",
       "    </tr>\n",
       "  </tbody>\n",
       "</table>\n",
       "</div>"
      ],
      "text/plain": [
       "                          review_id  rating  \\\n",
       "0  dfdbb7b0eb5a7e4c26d59a937e2e5feb       5   \n",
       "1  a5d2c3628987712d0e05c4f90798eb67       3   \n",
       "2  2ede853b14dc4583f96cf5d120af636f       3   \n",
       "3  ced5675e55cd9d38a524743f5c40996e       0   \n",
       "4  332732725863131279a8e345b63ac33e       4   \n",
       "\n",
       "                                         review_text  \n",
       "0  This is a special book. It started slow for ab...  \n",
       "1  Recommended by Don Katz. Avail for free in Dec...  \n",
       "2  A fun, fast paced science fiction thriller. I ...  \n",
       "3  Recommended reading to understand what is goin...  \n",
       "4  I really enjoyed this book, and there is a lot...  "
      ]
     },
     "execution_count": 6,
     "metadata": {},
     "output_type": "execute_result"
    }
   ],
   "source": [
    "print(f'Len of dataset: {len(data)}')\n",
    "data.head()"
   ]
  },
  {
   "cell_type": "code",
   "execution_count": 7,
   "metadata": {},
   "outputs": [
    {
     "data": {
      "text/plain": [
       "review_id      0\n",
       "rating         0\n",
       "review_text    0\n",
       "dtype: int64"
      ]
     },
     "execution_count": 7,
     "metadata": {},
     "output_type": "execute_result"
    }
   ],
   "source": [
    "# check for missign values\n",
    "data.isna().sum()"
   ]
  },
  {
   "cell_type": "code",
   "execution_count": 8,
   "metadata": {},
   "outputs": [
    {
     "data": {
      "image/png": "[encoded data removed]",
      "text/plain": [
       "<Figure size 640x480 with 1 Axes>"
      ]
     },
     "metadata": {},
     "output_type": "display_data"
    }
   ],
   "source": [
    "#display distribution of ratings in the data \n",
    "sns.set(style=\"darkgrid\")\n",
    "ax = sns.countplot(x=data['rating'], palette=\"Set1\")"
   ]
  },
  {
   "cell_type": "markdown",
   "metadata": {},
   "source": [
    "***FUNCTIONS***"
   ]
  },
  {
   "cell_type": "code",
   "execution_count": 9,
   "metadata": {},
   "outputs": [
    {
     "name": "stderr",
     "output_type": "stream",
     "text": [
      "[nltk_data] Downloading package stopwords to\n",
      "[nltk_data]     C:\\Users\\opw477\\AppData\\Roaming\\nltk_data...\n",
      "[nltk_data]   Package stopwords is already up-to-date!\n",
      "[nltk_data] Downloading package wordnet to\n",
      "[nltk_data]     C:\\Users\\opw477\\AppData\\Roaming\\nltk_data...\n",
      "[nltk_data]   Package wordnet is already up-to-date!\n"
     ]
    },
    {
     "data": {
      "text/plain": [
       "True"
      ]
     },
     "execution_count": 9,
     "metadata": {},
     "output_type": "execute_result"
    }
   ],
   "source": [
    "# Stopword\n",
    "nltk.download('stopwords')\n",
    "nltk.download('wordnet')"
   ]
  },
  {
   "cell_type": "code",
   "execution_count": 10,
   "metadata": {},
   "outputs": [],
   "source": [
    "# Create a list of stop words from nltk\n",
    "stop_words = set(stopwords.words(\"english\"))"
   ]
  },
  {
   "cell_type": "code",
   "execution_count": 11,
   "metadata": {},
   "outputs": [
    {
     "name": "stdout",
     "output_type": "stream",
     "text": [
      "{'of', 'his', 'whom', 'over', 'when', 'ain', 'should', 'ma', 'my', 'here', \"it's\", 'hers', 'll', 'won', 'up', 'your', \"don't\", 'other', 'wasn', 'wouldn', 'o', 'have', 'them', 'are', 'be', 'this', \"aren't\", 'now', \"you'd\", 'some', 'doing', 'd', 'needn', 'for', 'through', 'himself', 'haven', 'which', 'itself', 'such', 'same', 'as', 'herself', 'why', 'had', 'it', 'into', 'doesn', 'while', 'because', \"hadn't\", 'yourself', 'off', 'nor', 'our', 'is', 'hadn', 'few', 's', 'very', 'couldn', 'that', 'below', 'being', 'who', 'mightn', 'more', 'only', 'weren', \"shan't\", 'its', 'then', \"didn't\", 'each', \"mustn't\", 'will', 'all', 'by', 'on', 'own', 'y', \"couldn't\", 'hasn', \"wasn't\", 'from', \"wouldn't\", 'against', 'do', 'if', 'her', 'these', \"that'll\", \"needn't\", 'you', 'a', 'mustn', \"you've\", 'yours', 'just', 'where', 'after', 'been', 'not', \"shouldn't\", 'i', 'before', 'down', \"weren't\", 'than', \"mightn't\", 'aren', 'most', 'him', 'but', 'don', 'were', 'am', 'out', 'no', 'myself', 'does', 'the', \"hasn't\", 'ourselves', 've', 'there', 'themselves', 'having', 'or', \"you'll\", 'was', \"haven't\", 'theirs', 'shan', 'under', 'those', 'above', 'he', 'shouldn', 'has', 'what', 'their', 'both', 'how', 'me', 't', 'during', \"she's\", 'and', 'we', 'in', 'at', \"should've\", 'once', 'can', 'm', 'about', 'between', 'further', 'until', \"doesn't\", 'isn', 'so', \"isn't\", 'ours', 'to', 'they', 'she', 'with', 'an', 'any', 're', 'didn', \"won't\", 'did', 'again', 'yourselves', 'too', \"you're\"}\n"
     ]
    }
   ],
   "source": [
    "#print the stop_words list \n",
    "print (stop_words)"
   ]
  },
  {
   "cell_type": "code",
   "execution_count": 12,
   "metadata": {},
   "outputs": [],
   "source": [
    "more_stopwords=[\"spoiler\",\"alert\", \"book\", \"read\", \"one\", \"get\", \"cant\"]"
   ]
  },
  {
   "cell_type": "code",
   "execution_count": 13,
   "metadata": {},
   "outputs": [],
   "source": [
    "swl=stopwords.words('english')\n",
    "swl.extend(more_stopwords)\n",
    "stop_words = set(swl)\n",
    "punctuation = list(punctuation)"
   ]
  },
  {
   "cell_type": "code",
   "execution_count": 14,
   "metadata": {},
   "outputs": [
    {
     "name": "stdout",
     "output_type": "stream",
     "text": [
      "{'get', 'of', 'his', 'whom', 'over', 'when', 'ain', 'should', 'ma', 'my', 'here', \"it's\", 'hers', 'll', 'won', 'up', 'your', \"don't\", 'other', 'wasn', 'alert', 'wouldn', 'o', 'have', 'them', 'are', 'be', 'this', \"aren't\", 'now', \"you'd\", 'some', 'doing', 'd', 'needn', 'for', 'through', 'himself', 'haven', 'which', 'itself', 'such', 'same', 'as', 'herself', 'why', 'had', 'it', 'into', 'doesn', 'while', 'because', \"hadn't\", 'yourself', 'off', 'nor', 'cant', 'our', 'is', 'hadn', 'few', 's', 'very', 'couldn', 'that', 'below', 'being', 'who', 'mightn', 'more', 'only', 'weren', \"shan't\", 'its', 'then', \"didn't\", 'each', \"mustn't\", 'will', 'all', 'by', 'on', 'own', 'y', \"couldn't\", 'hasn', \"wasn't\", 'from', \"wouldn't\", 'spoiler', 'against', 'do', 'if', 'her', 'these', \"that'll\", \"needn't\", 'you', 'a', 'mustn', \"you've\", 'yours', 'just', 'where', 'after', 'been', 'one', 'not', \"shouldn't\", 'i', 'before', 'down', \"weren't\", 'than', \"mightn't\", 'aren', 'most', 'him', 'but', 'don', 'were', 'am', 'out', 'no', 'myself', 'read', 'does', 'the', \"hasn't\", 'ourselves', 've', 'there', 'themselves', 'having', 'or', \"you'll\", 'was', \"haven't\", 'theirs', 'shan', 'under', 'those', 'above', 'he', 'shouldn', 'has', 'what', 'their', 'both', 'how', 'me', 't', 'during', \"she's\", 'and', 'we', 'in', 'at', \"should've\", 'once', 'can', 'm', 'about', 'between', 'further', 'until', \"doesn't\", 'isn', 'so', \"isn't\", 'ours', 'book', 'to', 'they', 'she', 'with', 'an', 'any', 're', 'didn', \"won't\", 'did', 'again', 'yourselves', 'too', \"you're\"}\n"
     ]
    }
   ],
   "source": [
    "print (stop_words)"
   ]
  },
  {
   "cell_type": "code",
   "execution_count": 15,
   "metadata": {},
   "outputs": [],
   "source": [
    "# Function to clean text\n",
    "def clean_doc(doc):\n",
    "    # split document into individual words\n",
    "    tokens=doc.split()\n",
    "    re_punc = re.compile('[%s]' % re.escape(string.punctuation))\n",
    "    # remove punctuation from each word\n",
    "    tokens = [re_punc.sub('', w) for w in tokens]\n",
    "    # remove remaining tokens that are not alphabetic\n",
    "    tokens = [word for word in tokens if word.isalpha()]\n",
    "    # filter out short tokens\n",
    "    tokens = [word for word in tokens if len(word) > 2]\n",
    "    # filter out tokens more than 25 characters long\n",
    "    tokens = [word for word in tokens if len(word) < 25]\n",
    "    #lowercase all words\n",
    "    tokens = [word.lower() for word in tokens]\n",
    "    # filter out stop words\n",
    "    swl=stopwords.words('english')\n",
    "    swl.extend(more_stopwords)\n",
    "    stop_words = set(swl)\n",
    "    tokens = [w for w in tokens if not w in stop_words]  \n",
    "    lem = WordNetLemmatizer()\n",
    "    tokens_lem =[lem.lemmatize(w) for w in tokens]\n",
    "    #stemmer=PorterStemmer()\n",
    "    #tokens_stem = [stemmer.stem(w) for w in tokens_lem]\n",
    "    return tokens_lem"
   ]
  },
  {
   "cell_type": "code",
   "execution_count": 16,
   "metadata": {},
   "outputs": [],
   "source": [
    "def final_processed_text(doc):\n",
    "    #this is a function to join the processed text back\n",
    "    ' '.join(doc)\n",
    "    return doc"
   ]
  },
  {
   "cell_type": "markdown",
   "metadata": {},
   "source": [
    "***Execute CLEAN***"
   ]
  },
  {
   "cell_type": "code",
   "execution_count": 17,
   "metadata": {},
   "outputs": [],
   "source": [
    "#adding two columns to the dataframe to store the processed text and final text\n",
    "data['processed_text'] = data['review_text'].apply(lambda x: clean_doc(x))\n",
    "\n",
    "#creating final processed text variables for matrix creation\n",
    "final_processed_text = [' '.join(x) for x in data['processed_text'].tolist()]\n",
    "rev_ids = data['review_id'].tolist()\n",
    "#ids = data['review_id'].tolist()\n",
    "\n",
    "processed_text = data['review_text'].tolist()"
   ]
  },
  {
   "cell_type": "code",
   "execution_count": 18,
   "metadata": {},
   "outputs": [],
   "source": [
    "data['final_text'] = final_processed_text"
   ]
  },
  {
   "cell_type": "code",
   "execution_count": 19,
   "metadata": {},
   "outputs": [
    {
     "data": {
      "text/html": [
       "<div>\n",
       "<style scoped>\n",
       "    .dataframe tbody tr th:only-of-type {\n",
       "        vertical-align: middle;\n",
       "    }\n",
       "\n",
       "    .dataframe tbody tr th {\n",
       "        vertical-align: top;\n",
       "    }\n",
       "\n",
       "    .dataframe thead th {\n",
       "        text-align: right;\n",
       "    }\n",
       "</style>\n",
       "<table border=\"1\" class=\"dataframe\">\n",
       "  <thead>\n",
       "    <tr style=\"text-align: right;\">\n",
       "      <th></th>\n",
       "      <th>review_id</th>\n",
       "      <th>rating</th>\n",
       "      <th>review_text</th>\n",
       "      <th>processed_text</th>\n",
       "      <th>final_text</th>\n",
       "    </tr>\n",
       "  </thead>\n",
       "  <tbody>\n",
       "    <tr>\n",
       "      <th>0</th>\n",
       "      <td>dfdbb7b0eb5a7e4c26d59a937e2e5feb</td>\n",
       "      <td>5</td>\n",
       "      <td>This is a special book. It started slow for ab...</td>\n",
       "      <td>[special, started, slow, first, third, middle,...</td>\n",
       "      <td>special started slow first third middle third ...</td>\n",
       "    </tr>\n",
       "    <tr>\n",
       "      <th>1</th>\n",
       "      <td>a5d2c3628987712d0e05c4f90798eb67</td>\n",
       "      <td>3</td>\n",
       "      <td>Recommended by Don Katz. Avail for free in Dec...</td>\n",
       "      <td>[recommended, katz, avail, free, december]</td>\n",
       "      <td>recommended katz avail free december</td>\n",
       "    </tr>\n",
       "    <tr>\n",
       "      <th>2</th>\n",
       "      <td>2ede853b14dc4583f96cf5d120af636f</td>\n",
       "      <td>3</td>\n",
       "      <td>A fun, fast paced science fiction thriller. I ...</td>\n",
       "      <td>[fun, fast, paced, science, fiction, thriller,...</td>\n",
       "      <td>fun fast paced science fiction thriller night ...</td>\n",
       "    </tr>\n",
       "    <tr>\n",
       "      <th>3</th>\n",
       "      <td>ced5675e55cd9d38a524743f5c40996e</td>\n",
       "      <td>0</td>\n",
       "      <td>Recommended reading to understand what is goin...</td>\n",
       "      <td>[recommended, reading, understand, going, midd...</td>\n",
       "      <td>recommended reading understand going middle am...</td>\n",
       "    </tr>\n",
       "    <tr>\n",
       "      <th>4</th>\n",
       "      <td>332732725863131279a8e345b63ac33e</td>\n",
       "      <td>4</td>\n",
       "      <td>I really enjoyed this book, and there is a lot...</td>\n",
       "      <td>[really, enjoyed, lot, recommend, drag, little...</td>\n",
       "      <td>really enjoyed lot recommend drag little end k...</td>\n",
       "    </tr>\n",
       "  </tbody>\n",
       "</table>\n",
       "</div>"
      ],
      "text/plain": [
       "                          review_id  rating  \\\n",
       "0  dfdbb7b0eb5a7e4c26d59a937e2e5feb       5   \n",
       "1  a5d2c3628987712d0e05c4f90798eb67       3   \n",
       "2  2ede853b14dc4583f96cf5d120af636f       3   \n",
       "3  ced5675e55cd9d38a524743f5c40996e       0   \n",
       "4  332732725863131279a8e345b63ac33e       4   \n",
       "\n",
       "                                         review_text  \\\n",
       "0  This is a special book. It started slow for ab...   \n",
       "1  Recommended by Don Katz. Avail for free in Dec...   \n",
       "2  A fun, fast paced science fiction thriller. I ...   \n",
       "3  Recommended reading to understand what is goin...   \n",
       "4  I really enjoyed this book, and there is a lot...   \n",
       "\n",
       "                                      processed_text  \\\n",
       "0  [special, started, slow, first, third, middle,...   \n",
       "1         [recommended, katz, avail, free, december]   \n",
       "2  [fun, fast, paced, science, fiction, thriller,...   \n",
       "3  [recommended, reading, understand, going, midd...   \n",
       "4  [really, enjoyed, lot, recommend, drag, little...   \n",
       "\n",
       "                                          final_text  \n",
       "0  special started slow first third middle third ...  \n",
       "1               recommended katz avail free december  \n",
       "2  fun fast paced science fiction thriller night ...  \n",
       "3  recommended reading understand going middle am...  \n",
       "4  really enjoyed lot recommend drag little end k...  "
      ]
     },
     "execution_count": 19,
     "metadata": {},
     "output_type": "execute_result"
    }
   ],
   "source": [
    "data.head()"
   ]
  },
  {
   "cell_type": "code",
   "execution_count": 20,
   "metadata": {},
   "outputs": [
    {
     "data": {
      "text/plain": [
       "'big red star omg funniest absolutely dirtiest book ive ever eve dangerfield fresh unique voice adored story youre stunning said eyeing iris werent watery blue like redhead warm caramel brown ash lady area tingled though craved cigarette thanks keep review clean hard based naughty ashley hardworking nurse worst taste men decides finished boyfriend want baby good sperm donor former model ash party girl always sensitive lowerclass background loser parent raised grandmother sister julia best friend share everything julias boyfriend max gorgeous redheaded roommate named dean big lovable bear man dean coasted life meet ash thats ash feel ginger way wasnt pretty boy nose crooked grin lopsided squarejawed saltoftheearth handsome look made girl think loosehipped cowboy demanding scottish laird speaking scottish laird old mate redhead usually ginger werent scene guy hair rich copperyauburn fox pelt gleamed like rose gold floodlight short beard exact colour stuff head big red big time apparently feeling mutual dean original mc ive ever pleasure reading sensitive kind loving wear heart sleeve trouble tiny little problem focusing drift right middle thought ash want use want fun change pace usual contemporary romance book woman always trying rush straight sex whatever happened romance dean ash perfect together there ton australian slang reference distract story princess bride reference tessa bailey mention hilarious steamy sex scene win dialogue crackle character wellwritten real put finger make work open heart couldnt filled heat heart humor open heart favorite book year favorite quote sixfour five lean beefy everywhere counted would weight feel bearing imagined handsome face screwed pleasure pounded away practically revirginized everything belly button tightened theyd tried diagnose apparent medical explanation behaviour mum called away fairy max called bit lost youre dream girl ash even come close'"
      ]
     },
     "execution_count": 20,
     "metadata": {},
     "output_type": "execute_result"
    }
   ],
   "source": [
    "#sample of final processed review \n",
    "data['final_text'][100]"
   ]
  },
  {
   "cell_type": "markdown",
   "metadata": {},
   "source": [
    "***BALANCE the DATA_DOWNSAMPLING****"
   ]
  },
  {
   "cell_type": "code",
   "execution_count": 21,
   "metadata": {},
   "outputs": [],
   "source": [
    "majority = max(data['rating'].value_counts())\n",
    "minority = min(data['rating'].value_counts())"
   ]
  },
  {
   "cell_type": "code",
   "execution_count": 22,
   "metadata": {},
   "outputs": [
    {
     "name": "stdout",
     "output_type": "stream",
     "text": [
      "7210\n"
     ]
    }
   ],
   "source": [
    "print (majority)"
   ]
  },
  {
   "cell_type": "code",
   "execution_count": 23,
   "metadata": {},
   "outputs": [
    {
     "name": "stdout",
     "output_type": "stream",
     "text": [
      "423\n"
     ]
    }
   ],
   "source": [
    "print(minority)"
   ]
  },
  {
   "cell_type": "code",
   "execution_count": 24,
   "metadata": {},
   "outputs": [],
   "source": [
    "from sklearn.utils import resample\n",
    "minority = 423 \n",
    "\n",
    "df_0 = data[data['rating'] == 0]\n",
    "df_1 = data[data['rating'] == 1]\n",
    "df_2 = data[data['rating'] == 2]\n",
    "df_3 = data[data['rating'] == 3]\n",
    "df_4 = data[data['rating'] == 4]\n",
    "df_5 = data[data['rating'] == 5]\n",
    "\n",
    "# Downsample majority class\n",
    "df_0_downsampled = resample(df_0, replace=False, n_samples=minority, random_state=44)\n",
    "df_1_downsampled = resample(df_1, replace=False, n_samples=minority, random_state=44)\n",
    "df_2_downsampled = resample(df_2, replace=False, n_samples=minority, random_state=44)\n",
    "df_3_downsampled = resample(df_3, replace=False, n_samples=minority, random_state=44)\n",
    "df_4_downsampled = resample(df_4, replace=False, n_samples=minority, random_state=44)\n",
    "df_5_downsampled = resample(df_5, replace=False, n_samples=minority, random_state=44)\n",
    "\n",
    "# Concatenate the downsampled dataframes\n",
    "df_downsampled = pd.concat([df_0_downsampled, df_1_downsampled, df_2_downsampled, df_4_downsampled, df_3_downsampled, df_5_downsampled])\n"
   ]
  },
  {
   "cell_type": "code",
   "execution_count": 25,
   "metadata": {},
   "outputs": [
    {
     "data": {
      "text/html": [
       "<div>\n",
       "<style scoped>\n",
       "    .dataframe tbody tr th:only-of-type {\n",
       "        vertical-align: middle;\n",
       "    }\n",
       "\n",
       "    .dataframe tbody tr th {\n",
       "        vertical-align: top;\n",
       "    }\n",
       "\n",
       "    .dataframe thead th {\n",
       "        text-align: right;\n",
       "    }\n",
       "</style>\n",
       "<table border=\"1\" class=\"dataframe\">\n",
       "  <thead>\n",
       "    <tr style=\"text-align: right;\">\n",
       "      <th></th>\n",
       "      <th>review_id</th>\n",
       "      <th>rating</th>\n",
       "      <th>review_text</th>\n",
       "      <th>processed_text</th>\n",
       "      <th>final_text</th>\n",
       "    </tr>\n",
       "  </thead>\n",
       "  <tbody>\n",
       "    <tr>\n",
       "      <th>17103</th>\n",
       "      <td>23d89159d1de26d263186fd5aca842a4</td>\n",
       "      <td>0</td>\n",
       "      <td>Loved this book!</td>\n",
       "      <td>[loved]</td>\n",
       "      <td>loved</td>\n",
       "    </tr>\n",
       "    <tr>\n",
       "      <th>9895</th>\n",
       "      <td>899b5f1107e7afcd6d73e93256f8a1f4</td>\n",
       "      <td>0</td>\n",
       "      <td>I read this for high school and, I confess, no...</td>\n",
       "      <td>[high, school, confess, since, ill, remedy, soon]</td>\n",
       "      <td>high school confess since ill remedy soon</td>\n",
       "    </tr>\n",
       "    <tr>\n",
       "      <th>7197</th>\n",
       "      <td>fac0cec5db9241238507d9bdd66e2821</td>\n",
       "      <td>0</td>\n",
       "      <td>See review on Guardians of the West for my rev...</td>\n",
       "      <td>[see, review, guardian, west, review, series]</td>\n",
       "      <td>see review guardian west review series</td>\n",
       "    </tr>\n",
       "    <tr>\n",
       "      <th>4626</th>\n",
       "      <td>30fa9e694b94f1764edcc07822f4ff4e</td>\n",
       "      <td>0</td>\n",
       "      <td>Dnf at 25% \\n June 2017</td>\n",
       "      <td>[dnf, june]</td>\n",
       "      <td>dnf june</td>\n",
       "    </tr>\n",
       "    <tr>\n",
       "      <th>17502</th>\n",
       "      <td>6000837889d0f16220a2d231c77c3044</td>\n",
       "      <td>0</td>\n",
       "      <td>I really want to get to the part where she'll ...</td>\n",
       "      <td>[really, want, part, shell, meet, love, intere...</td>\n",
       "      <td>really want part shell meet love interest read...</td>\n",
       "    </tr>\n",
       "  </tbody>\n",
       "</table>\n",
       "</div>"
      ],
      "text/plain": [
       "                              review_id  rating  \\\n",
       "17103  23d89159d1de26d263186fd5aca842a4       0   \n",
       "9895   899b5f1107e7afcd6d73e93256f8a1f4       0   \n",
       "7197   fac0cec5db9241238507d9bdd66e2821       0   \n",
       "4626   30fa9e694b94f1764edcc07822f4ff4e       0   \n",
       "17502  6000837889d0f16220a2d231c77c3044       0   \n",
       "\n",
       "                                             review_text  \\\n",
       "17103                                   Loved this book!   \n",
       "9895   I read this for high school and, I confess, no...   \n",
       "7197   See review on Guardians of the West for my rev...   \n",
       "4626                             Dnf at 25% \\n June 2017   \n",
       "17502  I really want to get to the part where she'll ...   \n",
       "\n",
       "                                          processed_text  \\\n",
       "17103                                            [loved]   \n",
       "9895   [high, school, confess, since, ill, remedy, soon]   \n",
       "7197       [see, review, guardian, west, review, series]   \n",
       "4626                                         [dnf, june]   \n",
       "17502  [really, want, part, shell, meet, love, intere...   \n",
       "\n",
       "                                              final_text  \n",
       "17103                                              loved  \n",
       "9895           high school confess since ill remedy soon  \n",
       "7197              see review guardian west review series  \n",
       "4626                                            dnf june  \n",
       "17502  really want part shell meet love interest read...  "
      ]
     },
     "execution_count": 25,
     "metadata": {},
     "output_type": "execute_result"
    }
   ],
   "source": [
    "df_downsampled.head()"
   ]
  },
  {
   "cell_type": "code",
   "execution_count": 26,
   "metadata": {},
   "outputs": [
    {
     "name": "stdout",
     "output_type": "stream",
     "text": [
      "Len of dataset: 2538\n"
     ]
    }
   ],
   "source": [
    "print(f'Len of dataset: {len(df_downsampled)}')"
   ]
  },
  {
   "cell_type": "code",
   "execution_count": 27,
   "metadata": {},
   "outputs": [],
   "source": [
    "del [df_0_downsampled, df_1_downsampled, df_2_downsampled, df_4_downsampled, df_3_downsampled, df_5_downsampled]"
   ]
  },
  {
   "cell_type": "code",
   "execution_count": 28,
   "metadata": {},
   "outputs": [
    {
     "data": {
      "image/png": "[encoded data removed]",
      "text/plain": [
       "<Figure size 640x480 with 1 Axes>"
      ]
     },
     "metadata": {},
     "output_type": "display_data"
    }
   ],
   "source": [
    "# Display the count of each type of rating after balancing\n",
    "sns.countplot(x=df_downsampled['rating']);"
   ]
  },
  {
   "cell_type": "markdown",
   "metadata": {},
   "source": [
    "# ORIGINAL DATA"
   ]
  },
  {
   "cell_type": "code",
   "execution_count": 29,
   "metadata": {},
   "outputs": [],
   "source": [
    "#Original Data\n",
    "df = data\n",
    "docs = final_processed_text"
   ]
  },
  {
   "cell_type": "code",
   "execution_count": 30,
   "metadata": {},
   "outputs": [
    {
     "data": {
      "text/plain": [
       "20007"
      ]
     },
     "execution_count": 30,
     "metadata": {},
     "output_type": "execute_result"
    }
   ],
   "source": [
    "len(docs)"
   ]
  },
  {
   "cell_type": "code",
   "execution_count": 31,
   "metadata": {},
   "outputs": [
    {
     "data": {
      "text/plain": [
       "(12004, 4001, 4002, 8003)"
      ]
     },
     "execution_count": 31,
     "metadata": {},
     "output_type": "execute_result"
    }
   ],
   "source": [
    "from sklearn.model_selection import train_test_split\n",
    "\n",
    "X_train, X_temp, y_train, y_temp = train_test_split(df, df['rating'], test_size=0.4, stratify=df['rating'], random_state=42)\n",
    "X_val, X_test, y_val, y_test = train_test_split(X_temp, y_temp, test_size=0.5, stratify=X_temp['rating'], random_state=42)\n",
    "\n",
    "# Assign names to the splits\n",
    "train = X_train\n",
    "val = X_val\n",
    "test = X_test\n",
    "rf_train = X_temp  # rf_train will contain the remaining data after creating train, val, and test sets\n",
    "\n",
    "# Check the lengths of the splits\n",
    "len(train), len(val), len(test), len(rf_train)\n",
    "\n"
   ]
  },
  {
   "cell_type": "code",
   "execution_count": 32,
   "metadata": {},
   "outputs": [],
   "source": [
    "# Document sets corresponding to the splits\n",
    "train_docs = [docs[i] for i in X_train.index]\n",
    "rf_train_docs = [docs[i] for i in rf_train.index]\n",
    "val_docs = [docs[i] for i in X_val.index]\n",
    "test_docs = [docs[i] for i in X_test.index]\n"
   ]
  },
  {
   "cell_type": "code",
   "execution_count": 33,
   "metadata": {},
   "outputs": [
    {
     "data": {
      "text/plain": [
       "(12004, 4001, 4002, 8003)"
      ]
     },
     "execution_count": 33,
     "metadata": {},
     "output_type": "execute_result"
    }
   ],
   "source": [
    "#length of the train doc \n",
    "len(train_docs), len(val_docs), len(test_docs), len(rf_train_docs)"
   ]
  },
  {
   "cell_type": "code",
   "execution_count": 34,
   "metadata": {},
   "outputs": [
    {
     "data": {
      "text/plain": [
       "4    4326\n",
       "5    3776\n",
       "3    2523\n",
       "2     820\n",
       "1     305\n",
       "0     254\n",
       "Name: rating, dtype: int64"
      ]
     },
     "execution_count": 34,
     "metadata": {},
     "output_type": "execute_result"
    }
   ],
   "source": [
    "train.rating.value_counts()"
   ]
  },
  {
   "cell_type": "markdown",
   "metadata": {},
   "source": [
    "****TFIDF 2gram, max features 100****"
   ]
  },
  {
   "cell_type": "code",
   "execution_count": 35,
   "metadata": {},
   "outputs": [],
   "source": [
    "#TF-IDF\n",
    "tfidf100 = TfidfVectorizer(ngram_range=(1, 2),\n",
    "                                max_features=100)\n",
    "tfidf100_train_matrix = tfidf100.fit_transform(train_docs).toarray()\n",
    "tfidf100_val_matrix = tfidf100.transform(val_docs).toarray()\n",
    "tfidf100_test_matrix = tfidf100.transform(test_docs).toarray()\n",
    "\n",
    "rf_tfidf100_train = tfidf100.fit_transform(rf_train_docs).toarray()\n",
    "rf_tfidf100_test = tfidf100.transform(test_docs).toarray()"
   ]
  },
  {
   "cell_type": "code",
   "execution_count": 36,
   "metadata": {},
   "outputs": [
    {
     "name": "stdout",
     "output_type": "stream",
     "text": [
      "Current Working Directory: C:\\Users\\opw477\\OneDrive - Northwestern University\\Desktop\\MSDS_453\\venv4\n"
     ]
    }
   ],
   "source": [
    "#ensure current dir is the venv4 env and open a file in the dir for the arrays\n",
    "import os\n",
    "current_directory = os.getcwd()\n",
    "print(\"Current Working Directory:\", current_directory)"
   ]
  },
  {
   "cell_type": "code",
   "execution_count": 37,
   "metadata": {},
   "outputs": [],
   "source": [
    "# Export tfidf arrays for modeling\n",
    "np.save('embeddings_arrays/tfidf100_train.npy', tfidf100_train_matrix)\n",
    "np.save('embeddings_arrays/tfidf100_val.npy', tfidf100_val_matrix)\n",
    "np.save('embeddings_arrays/tfidf100_test.npy', tfidf100_test_matrix)\n",
    "np.save('embeddings_arrays/tfidf100_rf_train.npy', rf_tfidf100_train)"
   ]
  },
  {
   "cell_type": "code",
   "execution_count": 38,
   "metadata": {},
   "outputs": [
    {
     "name": "stdout",
     "output_type": "stream",
     "text": [
      "Term: start, TF-IDF: 1089.2627201597163\n",
      "Term: quite, TF-IDF: 940.9055980966338\n",
      "Term: character, TF-IDF: 936.3525479984256\n",
      "Term: life, TF-IDF: 892.0114198958757\n",
      "Term: live, TF-IDF: 870.1028510436439\n",
      "Term: thought, TF-IDF: 705.0451141764487\n",
      "Term: say, TF-IDF: 701.2500853698534\n",
      "Term: good, TF-IDF: 635.3496486762509\n",
      "Term: man, TF-IDF: 611.3883324483114\n",
      "Term: lot, TF-IDF: 607.3763517151642\n",
      "Term: definitely, TF-IDF: 588.2059310478629\n",
      "Term: first, TF-IDF: 578.4899209391856\n",
      "Term: would, TF-IDF: 570.0238833776929\n",
      "Term: book, TF-IDF: 550.6598906468464\n",
      "Term: really, TF-IDF: 543.3815271730242\n",
      "Term: take, TF-IDF: 539.4560729979441\n",
      "Term: shes, TF-IDF: 526.6094286538313\n",
      "Term: plot, TF-IDF: 518.8809988655727\n",
      "Term: way, TF-IDF: 514.4217955277517\n",
      "Term: kind, TF-IDF: 506.1455518128287\n"
     ]
    }
   ],
   "source": [
    "# Print the terms and their corresponding TF-IDF values\n",
    "feature_names = np.array(tfidf100.get_feature_names_out())\n",
    "total_tfidf_scores = np.sum(tfidf100_train_matrix, axis=0)\n",
    "sorted_indices = np.argsort(total_tfidf_scores)[::-1]\n",
    "# Get the first 10 indices\n",
    "top_indices = sorted_indices[:20]\n",
    "for index in top_indices:\n",
    "    term = feature_names[index]\n",
    "    tfidf_value = total_tfidf_scores[index]\n",
    "    print(f'Term: {term}, TF-IDF: {tfidf_value}')\n"
   ]
  },
  {
   "cell_type": "markdown",
   "metadata": {},
   "source": [
    "********GloVe*********"
   ]
  },
  {
   "cell_type": "code",
   "execution_count": 39,
   "metadata": {},
   "outputs": [],
   "source": [
    "glove50_path =  r'C:\\Users\\opw477\\OneDrive - Northwestern University\\Desktop\\MSDS_453\\venv4\\Final Project Files\\Glove\\glove.6B.50d.txt'\n",
    "glove100_path =  r'C:\\Users\\opw477\\OneDrive - Northwestern University\\Desktop\\MSDS_453\\venv4\\Final Project Files\\Glove\\glove.6B.100d.txt'\n",
    "glove200_path =  r'C:\\Users\\opw477\\OneDrive - Northwestern University\\Desktop\\MSDS_453\\venv4\\Final Project Files\\Glove\\glove.6B.200d.txt'"
   ]
  },
  {
   "cell_type": "code",
   "execution_count": 40,
   "metadata": {},
   "outputs": [
    {
     "name": "stdout",
     "output_type": "stream",
     "text": [
      "Found 400000 word vectors.\n"
     ]
    }
   ],
   "source": [
    "ndim = 100\n",
    "glove100_embeddings_index = {}\n",
    "\n",
    "with open(glove100_path, encoding='utf-8') as f:\n",
    "    for line in f:\n",
    "        values = line.split()\n",
    "        ps = PorterStemmer()\n",
    "        word = values[0]\n",
    "        coefs = np.asarray(values[1:], dtype='float32')\n",
    "        glove100_embeddings_index[word] = coefs\n",
    "\n",
    "print('Found %s word vectors.' % len(glove100_embeddings_index))\n",
    "\n"
   ]
  },
  {
   "cell_type": "code",
   "execution_count": 41,
   "metadata": {},
   "outputs": [],
   "source": [
    "word_count = lambda sentence: len(word_tokenize(sentence))\n",
    "length_long_sentence = len(max(train_docs, key=word_count))\n"
   ]
  },
  {
   "cell_type": "code",
   "execution_count": 42,
   "metadata": {},
   "outputs": [
    {
     "name": "stdout",
     "output_type": "stream",
     "text": [
      "Vocabulary Size: 42160\n"
     ]
    }
   ],
   "source": [
    "# Initialize the tokenizer first\n",
    "tokenizer = Tokenizer()\n",
    "tokenizer.fit_on_texts(train_docs)\n",
    "\n",
    "# Get the word index\n",
    "word_index = tokenizer.word_index\n",
    "\n",
    "# Check the vocabulary size\n",
    "vocabulary_size = len(word_index)\n",
    "print(\"Vocabulary Size:\", vocabulary_size)\n"
   ]
  },
  {
   "cell_type": "code",
   "execution_count": 43,
   "metadata": {},
   "outputs": [],
   "source": [
    "tokenizer = Tokenizer(num_words = 1000)\n",
    "tokenizer.fit_on_texts(train_docs)\n",
    "sequences = tokenizer.texts_to_sequences(train_docs)\n",
    "glove100_train = pad_sequences(sequences, length_long_sentence)\n",
    "word_index = tokenizer.word_index\n",
    "len(word_index)\n",
    "\n",
    "glove100_test = tokenizer.texts_to_sequences(test_docs)\n",
    "glove100_test = np.asarray(pad_sequences(glove100_test, length_long_sentence))\n",
    "glove100_val = tokenizer.texts_to_sequences(val_docs)\n",
    "glove100_val = np.asarray(pad_sequences(glove100_val, length_long_sentence))"
   ]
  },
  {
   "cell_type": "code",
   "execution_count": 44,
   "metadata": {},
   "outputs": [],
   "source": [
    "# Creates labels\n",
    "train_labels = np.asarray(train.rating)\n",
    "val_labels = np.asarray(val.rating)\n",
    "test_labels = np.asarray(test.rating)\n",
    "rf_train_labels = np.asarray(rf_train.rating)\n",
    "\n",
    "# Convert to one-hot encoding \n",
    "train_labels = to_categorical(train_labels, num_classes=6)\n",
    "glove_val_labels = to_categorical(val_labels, num_classes=6)\n",
    "glove_test_labels = to_categorical(test_labels, num_classes=6)\n",
    "rf_train_labels = to_categorical(rf_train_labels, num_classes=6)"
   ]
  },
  {
   "cell_type": "code",
   "execution_count": 45,
   "metadata": {},
   "outputs": [
    {
     "data": {
      "image/png": "[encoded data removed]",
      "text/plain": [
       "<Figure size 640x480 with 1 Axes>"
      ]
     },
     "metadata": {},
     "output_type": "display_data"
    }
   ],
   "source": [
    "sns.countplot(x=train['rating']);"
   ]
  },
  {
   "cell_type": "code",
   "execution_count": 46,
   "metadata": {},
   "outputs": [
    {
     "name": "stdout",
     "output_type": "stream",
     "text": [
      "[0 1 2 3 4 5]\n",
      "[0. 1.]\n",
      "[0 1 2 3 4 5]\n"
     ]
    }
   ],
   "source": [
    "print(np.unique(test_labels))\n",
    "print(np.unique(train_labels))\n",
    "print(np.unique(val_labels))"
   ]
  },
  {
   "cell_type": "code",
   "execution_count": 47,
   "metadata": {},
   "outputs": [
    {
     "data": {
      "text/plain": [
       "((12004, 7571), (4001, 7571), (12004, 6), (4001, 6), (4002, 6))"
      ]
     },
     "execution_count": 47,
     "metadata": {},
     "output_type": "execute_result"
    }
   ],
   "source": [
    "glove100_train.shape, glove100_val.shape, train_labels.shape, glove_val_labels.shape, glove_test_labels.shape"
   ]
  },
  {
   "cell_type": "code",
   "execution_count": 48,
   "metadata": {},
   "outputs": [],
   "source": [
    "# Save labels\n",
    "np.save('embeddings_arrays/train_labels.npy', train_labels)\n",
    "np.save('embeddings_arrays/val_labels.npy', val_labels)\n",
    "np.save('embeddings_arrays/test_labels.npy', test_labels)"
   ]
  },
  {
   "cell_type": "code",
   "execution_count": 49,
   "metadata": {},
   "outputs": [],
   "source": [
    "glove100_embedding_matrix = np.zeros((len(word_index) + 1, ndim))\n",
    "for word, i in word_index.items():\n",
    "    embedding_vector = glove100_embeddings_index.get(word)\n",
    "    if embedding_vector is not None:\n",
    "        # words not found in embedding index will be all-zeros.\n",
    "        glove100_embedding_matrix[i] = embedding_vector"
   ]
  },
  {
   "cell_type": "code",
   "execution_count": 50,
   "metadata": {},
   "outputs": [],
   "source": [
    "from tensorflow.keras.layers import Embedding\n",
    "glove100_embedding_layer = Embedding(len(word_index) + 1, # input len(embedding array)\n",
    "                            100,\n",
    "                            weights=[glove100_embedding_matrix],\n",
    "                            input_length=length_long_sentence,\n",
    "                            trainable=False)"
   ]
  },
  {
   "cell_type": "code",
   "execution_count": 51,
   "metadata": {},
   "outputs": [],
   "source": [
    "sequence100_input = Input(shape=(100,), dtype='int32')\n",
    "glove100embedded_sequences = glove100_embedding_layer(sequence100_input)"
   ]
  },
  {
   "cell_type": "code",
   "execution_count": 52,
   "metadata": {},
   "outputs": [],
   "source": [
    "# Export weights\n",
    "np.save('embeddings_arrays/glove100_weights.npy', glove100_embedding_matrix)"
   ]
  },
  {
   "cell_type": "markdown",
   "metadata": {},
   "source": [
    "#MODELS"
   ]
  },
  {
   "cell_type": "code",
   "execution_count": 53,
   "metadata": {},
   "outputs": [],
   "source": [
    "# models f1's\n",
    "classifier_results = list()"
   ]
  },
  {
   "cell_type": "markdown",
   "metadata": {},
   "source": [
    "#RANDOM FOREST"
   ]
  },
  {
   "cell_type": "code",
   "execution_count": 54,
   "metadata": {},
   "outputs": [],
   "source": [
    "rf_train_labels = np.asarray(rf_train.rating)\n",
    "rf_test_labels = np.asarray(test.rating)\n",
    "seed = 42"
   ]
  },
  {
   "cell_type": "code",
   "execution_count": 55,
   "metadata": {},
   "outputs": [],
   "source": [
    "#Classifier\n",
    "data = dict()\n",
    "rfc = RandomForestClassifier(random_state=seed, n_estimators=100)\n",
    "rfr = RandomForestRegressor(random_state=seed, n_estimators=100)"
   ]
  },
  {
   "cell_type": "code",
   "execution_count": 56,
   "metadata": {},
   "outputs": [],
   "source": [
    "cv_scores = cross_val_score(rfc, rf_tfidf100_train, \n",
    "                    rf_train_labels, cv=5, scoring='f1_macro', \n",
    "                    n_jobs=-1)"
   ]
  },
  {
   "cell_type": "code",
   "execution_count": 57,
   "metadata": {},
   "outputs": [
    {
     "data": {
      "text/html": [
       "<style>#sk-container-id-1 {color: black;}#sk-container-id-1 pre{padding: 0;}#sk-container-id-1 div.sk-toggleable {background-color: white;}#sk-container-id-1 label.sk-toggleable__label {cursor: pointer;display: block;width: 100%;margin-bottom: 0;padding: 0.3em;box-sizing: border-box;text-align: center;}#sk-container-id-1 label.sk-toggleable__label-arrow:before {content: \"▸\";float: left;margin-right: 0.25em;color: #696969;}#sk-container-id-1 label.sk-toggleable__label-arrow:hover:before {color: black;}#sk-container-id-1 div.sk-estimator:hover label.sk-toggleable__label-arrow:before {color: black;}#sk-container-id-1 div.sk-toggleable__content {max-height: 0;max-width: 0;overflow: hidden;text-align: left;background-color: #f0f8ff;}#sk-container-id-1 div.sk-toggleable__content pre {margin: 0.2em;color: black;border-radius: 0.25em;background-color: #f0f8ff;}#sk-container-id-1 input.sk-toggleable__control:checked~div.sk-toggleable__content {max-height: 200px;max-width: 100%;overflow: auto;}#sk-container-id-1 input.sk-toggleable__control:checked~label.sk-toggleable__label-arrow:before {content: \"▾\";}#sk-container-id-1 div.sk-estimator input.sk-toggleable__control:checked~label.sk-toggleable__label {background-color: #d4ebff;}#sk-container-id-1 div.sk-label input.sk-toggleable__control:checked~label.sk-toggleable__label {background-color: #d4ebff;}#sk-container-id-1 input.sk-hidden--visually {border: 0;clip: rect(1px 1px 1px 1px);clip: rect(1px, 1px, 1px, 1px);height: 1px;margin: -1px;overflow: hidden;padding: 0;position: absolute;width: 1px;}#sk-container-id-1 div.sk-estimator {font-family: monospace;background-color: #f0f8ff;border: 1px dotted black;border-radius: 0.25em;box-sizing: border-box;margin-bottom: 0.5em;}#sk-container-id-1 div.sk-estimator:hover {background-color: #d4ebff;}#sk-container-id-1 div.sk-parallel-item::after {content: \"\";width: 100%;border-bottom: 1px solid gray;flex-grow: 1;}#sk-container-id-1 div.sk-label:hover label.sk-toggleable__label {background-color: #d4ebff;}#sk-container-id-1 div.sk-serial::before {content: \"\";position: absolute;border-left: 1px solid gray;box-sizing: border-box;top: 0;bottom: 0;left: 50%;z-index: 0;}#sk-container-id-1 div.sk-serial {display: flex;flex-direction: column;align-items: center;background-color: white;padding-right: 0.2em;padding-left: 0.2em;position: relative;}#sk-container-id-1 div.sk-item {position: relative;z-index: 1;}#sk-container-id-1 div.sk-parallel {display: flex;align-items: stretch;justify-content: center;background-color: white;position: relative;}#sk-container-id-1 div.sk-item::before, #sk-container-id-1 div.sk-parallel-item::before {content: \"\";position: absolute;border-left: 1px solid gray;box-sizing: border-box;top: 0;bottom: 0;left: 50%;z-index: -1;}#sk-container-id-1 div.sk-parallel-item {display: flex;flex-direction: column;z-index: 1;position: relative;background-color: white;}#sk-container-id-1 div.sk-parallel-item:first-child::after {align-self: flex-end;width: 50%;}#sk-container-id-1 div.sk-parallel-item:last-child::after {align-self: flex-start;width: 50%;}#sk-container-id-1 div.sk-parallel-item:only-child::after {width: 0;}#sk-container-id-1 div.sk-dashed-wrapped {border: 1px dashed gray;margin: 0 0.4em 0.5em 0.4em;box-sizing: border-box;padding-bottom: 0.4em;background-color: white;}#sk-container-id-1 div.sk-label label {font-family: monospace;font-weight: bold;display: inline-block;line-height: 1.2em;}#sk-container-id-1 div.sk-label-container {text-align: center;}#sk-container-id-1 div.sk-container {/* jupyter's `normalize.less` sets `[hidden] { display: none; }` but bootstrap.min.css set `[hidden] { display: none !important; }` so we also need the `!important` here to be able to override the default hidden behavior on the sphinx rendered scikit-learn.org. See: https://github.com/scikit-learn/scikit-learn/issues/21755 */display: inline-block !important;position: relative;}#sk-container-id-1 div.sk-text-repr-fallback {display: none;}</style><div id=\"sk-container-id-1\" class=\"sk-top-container\"><div class=\"sk-text-repr-fallback\"><pre>RandomForestClassifier(random_state=42)</pre><b>In a Jupyter environment, please rerun this cell to show the HTML representation or trust the notebook. <br />On GitHub, the HTML representation is unable to render, please try loading this page with nbviewer.org.</b></div><div class=\"sk-container\" hidden><div class=\"sk-item\"><div class=\"sk-estimator sk-toggleable\"><input class=\"sk-toggleable__control sk-hidden--visually\" id=\"sk-estimator-id-1\" type=\"checkbox\" checked><label for=\"sk-estimator-id-1\" class=\"sk-toggleable__label sk-toggleable__label-arrow\">RandomForestClassifier</label><div class=\"sk-toggleable__content\"><pre>RandomForestClassifier(random_state=42)</pre></div></div></div></div></div>"
      ],
      "text/plain": [
       "RandomForestClassifier(random_state=42)"
      ]
     },
     "execution_count": 57,
     "metadata": {},
     "output_type": "execute_result"
    }
   ],
   "source": [
    "# Fit the classifier with training data\n",
    "rfc.fit(rf_tfidf100_train, rf_train_labels)"
   ]
  },
  {
   "cell_type": "code",
   "execution_count": 58,
   "metadata": {},
   "outputs": [],
   "source": [
    "rfc_train_preds = rfc.predict(rf_tfidf100_train)\n",
    "rfc_preds = rfc.predict(tfidf100_test_matrix)"
   ]
  },
  {
   "cell_type": "code",
   "execution_count": 59,
   "metadata": {},
   "outputs": [
    {
     "name": "stdout",
     "output_type": "stream",
     "text": [
      "[0 1 2 3 4 5]\n"
     ]
    }
   ],
   "source": [
    "print(np.unique(test_labels))\n"
   ]
  },
  {
   "cell_type": "code",
   "execution_count": 60,
   "metadata": {},
   "outputs": [
    {
     "data": {
      "image/png": "[encoded data removed]",
      "text/plain": [
       "<Figure size 800x600 with 2 Axes>"
      ]
     },
     "metadata": {},
     "output_type": "display_data"
    },
    {
     "data": {
      "text/plain": [
       "{'model': 'RF TF-IDF', 'train_f1': 0.941, 'val_f1': 0.226, 'test_f1': 0.259}"
      ]
     },
     "execution_count": 60,
     "metadata": {},
     "output_type": "execute_result"
    }
   ],
   "source": [
    "# Visualize confusion matrix and print F1's\n",
    "data['model'] = 'RF TF-IDF'\n",
    "data['train_f1'] = round(f1_score(rfc_train_preds, rf_train_labels, average='macro'), 3)\n",
    "data['val_f1'] = round(np.mean(cv_scores), 3)\n",
    "data['test_f1'] = round(f1_score(rfc_preds, test_labels, average='macro'), 3)\n",
    "\n",
    "# Calculate confusion matrix\n",
    "conf_matrix = confusion_matrix(test_labels, rfc_preds)\n",
    "# Visualize the confusion matrix\n",
    "plt.figure(figsize=(8, 6))\n",
    "sns.heatmap(conf_matrix, annot=True, fmt='d', cmap='viridis')\n",
    "plt.title('Confusion Matrix - Random Forest')\n",
    "plt.xlabel('Predicted')\n",
    "plt.ylabel('True')\n",
    "plt.show()\n",
    "\n",
    "classifier_results.append(data)\n",
    "data"
   ]
  },
  {
   "cell_type": "markdown",
   "metadata": {},
   "source": [
    "###DENSE NEURAL NETWORK "
   ]
  },
  {
   "cell_type": "code",
   "execution_count": 61,
   "metadata": {},
   "outputs": [
    {
     "name": "stdout",
     "output_type": "stream",
     "text": [
      "Model: \"sequential\"\n",
      "_________________________________________________________________\n",
      " Layer (type)                Output Shape              Param #   \n",
      "=================================================================\n",
      " embedding (Embedding)       multiple                  4216100   \n",
      "                                                                 \n",
      " flatten (Flatten)           (None, 757100)            0         \n",
      "                                                                 \n",
      " dense (Dense)               (None, 128)               96908928  \n",
      "                                                                 \n",
      " dense_1 (Dense)             (None, 6)                 774       \n",
      "                                                                 \n",
      "=================================================================\n",
      "Total params: 101125802 (385.76 MB)\n",
      "Trainable params: 96909702 (369.68 MB)\n",
      "Non-trainable params: 4216100 (16.08 MB)\n",
      "_________________________________________________________________\n"
     ]
    }
   ],
   "source": [
    "sequence100_input = Input(shape=(length_long_sentence,), dtype='int32')\n",
    "glove100_embedded_sequences = glove100_embedding_layer(sequence100_input)\n",
    "model = Sequential([\n",
    "    sequence100_input,\n",
    "    glove100_embedding_layer,\n",
    "    Flatten(),\n",
    "    Dense(128, activation='relu'),\n",
    "    Dense(6, activation = 'softmax')\n",
    "])\n",
    "\n",
    "model.summary()\n",
    "opt = 'rmsprop'\n",
    "model.compile(\n",
    "    optimizer=opt,\n",
    "    loss='categorical_crossentropy',\n",
    "    metrics=['accuracy']\n",
    ")"
   ]
  },
  {
   "cell_type": "code",
   "execution_count": 62,
   "metadata": {},
   "outputs": [
    {
     "name": "stdout",
     "output_type": "stream",
     "text": [
      "Epoch 1/10\n",
      "376/376 [==============================] - 195s 517ms/step - loss: 1.4511 - accuracy: 0.3807 - val_loss: 1.3510 - val_accuracy: 0.4164\n",
      "Epoch 2/10\n",
      "376/376 [==============================] - 184s 491ms/step - loss: 1.1802 - accuracy: 0.5019 - val_loss: 1.4386 - val_accuracy: 0.4111\n",
      "Epoch 3/10\n",
      "376/376 [==============================] - 184s 491ms/step - loss: 0.9312 - accuracy: 0.6210 - val_loss: 1.6718 - val_accuracy: 0.4009\n",
      "Epoch 4/10\n",
      "376/376 [==============================] - 187s 498ms/step - loss: 0.7053 - accuracy: 0.7201 - val_loss: 1.7537 - val_accuracy: 0.4046\n",
      "Epoch 5/10\n",
      "376/376 [==============================] - 184s 489ms/step - loss: 0.5079 - accuracy: 0.8091 - val_loss: 2.3558 - val_accuracy: 0.3847\n",
      "Epoch 6/10\n",
      "376/376 [==============================] - 186s 496ms/step - loss: 0.3548 - accuracy: 0.8769 - val_loss: 2.2116 - val_accuracy: 0.3952\n",
      "Epoch 7/10\n",
      "376/376 [==============================] - 185s 491ms/step - loss: 0.2411 - accuracy: 0.9218 - val_loss: 2.5503 - val_accuracy: 0.3957\n",
      "Epoch 8/10\n",
      "376/376 [==============================] - 386s 1s/step - loss: 0.1685 - accuracy: 0.9499 - val_loss: 2.8487 - val_accuracy: 0.3937\n",
      "Epoch 9/10\n",
      "376/376 [==============================] - 186s 496ms/step - loss: 0.1215 - accuracy: 0.9637 - val_loss: 3.3162 - val_accuracy: 0.3729\n",
      "Epoch 10/10\n",
      "376/376 [==============================] - 185s 492ms/step - loss: 0.0923 - accuracy: 0.9742 - val_loss: 3.4477 - val_accuracy: 0.3862\n"
     ]
    },
    {
     "data": {
      "text/plain": [
       "<keras.src.callbacks.History at 0x2031d008850>"
      ]
     },
     "execution_count": 62,
     "metadata": {},
     "output_type": "execute_result"
    }
   ],
   "source": [
    "data = dict()\n",
    "model.fit(glove100_train, train_labels,\n",
    "            validation_data=(glove100_val, glove_val_labels),\n",
    "            epochs = 10,\n",
    "            batch_size=32)"
   ]
  },
  {
   "cell_type": "code",
   "execution_count": 63,
   "metadata": {},
   "outputs": [
    {
     "name": "stdout",
     "output_type": "stream",
     "text": [
      "126/126 [==============================] - 7s 57ms/step - loss: 3.6645 - accuracy: 0.3783\n"
     ]
    },
    {
     "data": {
      "text/plain": [
       "(3.6645216941833496, 0.3783108592033386)"
      ]
     },
     "execution_count": 63,
     "metadata": {},
     "output_type": "execute_result"
    }
   ],
   "source": [
    "test_loss, test_acc = model.evaluate(np.asarray(glove100_test), glove_test_labels)\n",
    "test_loss, test_acc"
   ]
  },
  {
   "cell_type": "code",
   "execution_count": 64,
   "metadata": {},
   "outputs": [
    {
     "data": {
      "text/plain": [
       "array([0., 0., 0., 0., 1., 0.], dtype=float32)"
      ]
     },
     "execution_count": 64,
     "metadata": {},
     "output_type": "execute_result"
    }
   ],
   "source": [
    "train_labels[0]"
   ]
  },
  {
   "cell_type": "code",
   "execution_count": 65,
   "metadata": {},
   "outputs": [
    {
     "name": "stdout",
     "output_type": "stream",
     "text": [
      "376/376 [==============================] - 22s 59ms/step\n",
      "126/126 [==============================] - 7s 59ms/step\n"
     ]
    }
   ],
   "source": [
    "# Generate train F1 score\n",
    "train_preds = model.predict(glove100_train)\n",
    "train_f1 = f1_score(np.argmax(train_preds, axis=1), \n",
    "                    np.argmax(train_labels, axis=1), \n",
    "                    average='macro')\n",
    "# Generate test F1 score                    \n",
    "dnn_preds = model.predict(glove100_test)\n",
    "test_f1 = f1_score(np.argmax(dnn_preds, axis=1), test_labels, average='macro')\n",
    "\n"
   ]
  },
  {
   "cell_type": "code",
   "execution_count": 66,
   "metadata": {},
   "outputs": [
    {
     "data": {
      "text/plain": [
       "{'model': 'DNN- GloVe', 'train_f1': 0.978, 'test_f1': 0.247}"
      ]
     },
     "execution_count": 66,
     "metadata": {},
     "output_type": "execute_result"
    }
   ],
   "source": [
    "data['model'] = 'DNN- GloVe'\n",
    "data['train_f1'] = round(train_f1, 3)\n",
    "data['test_f1'] = round(test_f1, 3)\n",
    "classifier_results.append(data)\n",
    "data"
   ]
  },
  {
   "cell_type": "code",
   "execution_count": 67,
   "metadata": {},
   "outputs": [
    {
     "data": {
      "image/png": "[encoded data removed]",
      "text/plain": [
       "<Figure size 800x600 with 2 Axes>"
      ]
     },
     "metadata": {},
     "output_type": "display_data"
    }
   ],
   "source": [
    "# Generate predictions on the test set\n",
    "predicted_labels = np.argmax(dnn_preds, axis=1)\n",
    "# Create the confusion matrix\n",
    "conf_matrix = confusion_matrix(test_labels, predicted_labels)\n",
    "\n",
    "# Visualize the confusion matrix\n",
    "plt.figure(figsize=(8, 6))\n",
    "sns.heatmap(conf_matrix, annot=True, fmt='d', cmap='viridis')\n",
    "plt.title('Confusion Matrix - DNN with GloVe Embeddings')\n",
    "plt.xlabel('Predicted')\n",
    "plt.ylabel('True')\n",
    "plt.show()\n",
    "\n"
   ]
  },
  {
   "cell_type": "markdown",
   "metadata": {},
   "source": [
    "#DNN TF-IDF "
   ]
  },
  {
   "cell_type": "code",
   "execution_count": 68,
   "metadata": {},
   "outputs": [
    {
     "name": "stdout",
     "output_type": "stream",
     "text": [
      "Model: \"sequential_1\"\n",
      "_________________________________________________________________\n",
      " Layer (type)                Output Shape              Param #   \n",
      "=================================================================\n",
      " dense_2 (Dense)             (None, 32)                3232      \n",
      "                                                                 \n",
      " dense_3 (Dense)             (None, 128)               4224      \n",
      "                                                                 \n",
      " dense_4 (Dense)             (None, 6)                 774       \n",
      "                                                                 \n",
      "=================================================================\n",
      "Total params: 8230 (32.15 KB)\n",
      "Trainable params: 8230 (32.15 KB)\n",
      "Non-trainable params: 0 (0.00 Byte)\n",
      "_________________________________________________________________\n"
     ]
    }
   ],
   "source": [
    "model = Sequential([\n",
    "    Dense(32, input_shape=(100,)),\n",
    "    Dense(128, activation='relu'),\n",
    "    Dense(6, activation = 'softmax')\n",
    "])\n",
    "\n",
    "model.summary()\n",
    "\n",
    "opt = 'rmsprop'\n",
    "\n",
    "model.compile(\n",
    "    optimizer=opt,\n",
    "    loss='categorical_crossentropy',\n",
    "    metrics=['accuracy']\n",
    ")"
   ]
  },
  {
   "cell_type": "code",
   "execution_count": 69,
   "metadata": {},
   "outputs": [
    {
     "name": "stdout",
     "output_type": "stream",
     "text": [
      "Epoch 1/15\n",
      "376/376 [==============================] - 1s 994us/step - loss: 1.3548 - accuracy: 0.4070\n",
      "Epoch 2/15\n",
      "376/376 [==============================] - 0s 905us/step - loss: 1.2601 - accuracy: 0.4538\n",
      "Epoch 3/15\n",
      "376/376 [==============================] - 0s 1ms/step - loss: 1.2459 - accuracy: 0.4573\n",
      "Epoch 4/15\n",
      "376/376 [==============================] - 0s 876us/step - loss: 1.2370 - accuracy: 0.4618\n",
      "Epoch 5/15\n",
      "376/376 [==============================] - 0s 885us/step - loss: 1.2318 - accuracy: 0.4668\n",
      "Epoch 6/15\n",
      "376/376 [==============================] - 0s 1ms/step - loss: 1.2261 - accuracy: 0.4688\n",
      "Epoch 7/15\n",
      "376/376 [==============================] - 0s 855us/step - loss: 1.2206 - accuracy: 0.4724\n",
      "Epoch 8/15\n",
      "376/376 [==============================] - 0s 844us/step - loss: 1.2148 - accuracy: 0.4758\n",
      "Epoch 9/15\n",
      "376/376 [==============================] - 0s 1ms/step - loss: 1.2087 - accuracy: 0.4763\n",
      "Epoch 10/15\n",
      "376/376 [==============================] - 0s 858us/step - loss: 1.2033 - accuracy: 0.4796\n",
      "Epoch 11/15\n",
      "376/376 [==============================] - 0s 855us/step - loss: 1.1978 - accuracy: 0.4835\n",
      "Epoch 12/15\n",
      "376/376 [==============================] - 0s 1ms/step - loss: 1.1908 - accuracy: 0.4886\n",
      "Epoch 13/15\n",
      "376/376 [==============================] - 0s 832us/step - loss: 1.1851 - accuracy: 0.4912\n",
      "Epoch 14/15\n",
      "376/376 [==============================] - 0s 844us/step - loss: 1.1795 - accuracy: 0.4924\n",
      "Epoch 15/15\n",
      "376/376 [==============================] - 0s 1ms/step - loss: 1.1726 - accuracy: 0.4971\n"
     ]
    },
    {
     "data": {
      "text/plain": [
       "<keras.src.callbacks.History at 0x2032453af10>"
      ]
     },
     "execution_count": 69,
     "metadata": {},
     "output_type": "execute_result"
    }
   ],
   "source": [
    "model.fit(tfidf100_train_matrix, train_labels,\n",
    "            epochs=15,\n",
    "            batch_size=32)"
   ]
  },
  {
   "cell_type": "code",
   "execution_count": 70,
   "metadata": {},
   "outputs": [
    {
     "name": "stdout",
     "output_type": "stream",
     "text": [
      "Epoch 1/15\n",
      "376/376 [==============================] - 0s 875us/step - loss: 1.1662 - accuracy: 0.5060\n",
      "Epoch 2/15\n",
      "376/376 [==============================] - 0s 969us/step - loss: 1.1602 - accuracy: 0.5063\n",
      "Epoch 3/15\n",
      "376/376 [==============================] - 0s 913us/step - loss: 1.1535 - accuracy: 0.5127\n",
      "Epoch 4/15\n",
      "376/376 [==============================] - 0s 903us/step - loss: 1.1473 - accuracy: 0.5127\n",
      "Epoch 5/15\n",
      "376/376 [==============================] - 0s 995us/step - loss: 1.1395 - accuracy: 0.5142\n",
      "Epoch 6/15\n",
      "376/376 [==============================] - 0s 878us/step - loss: 1.1334 - accuracy: 0.5177\n",
      "Epoch 7/15\n",
      "376/376 [==============================] - 0s 855us/step - loss: 1.1278 - accuracy: 0.5270\n",
      "Epoch 8/15\n",
      "376/376 [==============================] - 0s 1ms/step - loss: 1.1216 - accuracy: 0.5280\n",
      "Epoch 9/15\n",
      "376/376 [==============================] - 0s 854us/step - loss: 1.1150 - accuracy: 0.5346\n",
      "Epoch 10/15\n",
      "376/376 [==============================] - 0s 851us/step - loss: 1.1087 - accuracy: 0.5371\n",
      "Epoch 11/15\n",
      "376/376 [==============================] - 0s 994us/step - loss: 1.1027 - accuracy: 0.5401\n",
      "Epoch 12/15\n",
      "376/376 [==============================] - 0s 866us/step - loss: 1.0967 - accuracy: 0.5392\n",
      "Epoch 13/15\n",
      "376/376 [==============================] - 0s 835us/step - loss: 1.0896 - accuracy: 0.5437\n",
      "Epoch 14/15\n",
      "376/376 [==============================] - 0s 926us/step - loss: 1.0840 - accuracy: 0.5501\n",
      "Epoch 15/15\n",
      "376/376 [==============================] - 0s 734us/step - loss: 1.0775 - accuracy: 0.5508\n",
      "376/376 [==============================] - 0s 565us/step\n",
      "126/126 [==============================] - 0s 669us/step\n",
      "Train F1 Score (TF-IDF): 0.44003040391943754\n",
      "Test F1 Score (TF-IDF): 0.272904533079183\n"
     ]
    }
   ],
   "source": [
    "# Train the model\n",
    "model.fit(tfidf100_train_matrix, train_labels, epochs=15, batch_size=32)\n",
    "\n",
    "# Generate train F1 score\n",
    "train_preds_tfidf = model.predict(tfidf100_train_matrix)\n",
    "train_f1_tfidf = f1_score(np.argmax(train_preds_tfidf, axis=1), np.argmax(train_labels, axis=1), average='macro')\n",
    "\n",
    "# Generate test F1 score\n",
    "test_preds_tfidf = model.predict(tfidf100_test_matrix)\n",
    "test_f1_tfidf = f1_score(np.argmax(test_preds_tfidf, axis=1), test_labels, average='macro')\n",
    "\n",
    "# Print or use the results as needed\n",
    "print(\"Train F1 Score (TF-IDF):\", train_f1_tfidf)\n",
    "print(\"Test F1 Score (TF-IDF):\", test_f1_tfidf)\n",
    "\n",
    "# Add the results to classifier_results for TF-IDF\n",
    "data_tfidf = {\n",
    "    'model': 'DNN- TF-IDF',\n",
    "    'train_f1': round(train_f1_tfidf, 3),\n",
    "    'test_f1': round(test_f1_tfidf, 3)\n",
    "}\n",
    "\n",
    "# Append the new results to classifier_results\n",
    "classifier_results.append(data_tfidf)\n"
   ]
  },
  {
   "cell_type": "code",
   "execution_count": 71,
   "metadata": {},
   "outputs": [
    {
     "data": {
      "image/png": "[encoded data removed]",
      "text/plain": [
       "<Figure size 800x600 with 2 Axes>"
      ]
     },
     "metadata": {},
     "output_type": "display_data"
    }
   ],
   "source": [
    "# Generate predictions on the test set for the new model\n",
    "predicted_labels_tfidf = np.argmax(test_preds_tfidf, axis=1)\n",
    "\n",
    "# Create the confusion matrix for the new model\n",
    "conf_matrix_tfidf = confusion_matrix(test_labels, predicted_labels_tfidf)\n",
    "\n",
    "# Visualize the confusion matrix for the new model\n",
    "plt.figure(figsize=(8, 6))\n",
    "sns.heatmap(conf_matrix_tfidf, annot=True, fmt='d', cmap='viridis')\n",
    "plt.title('Confusion Matrix - DNN with TF-IDF')\n",
    "plt.xlabel('Predicted')\n",
    "plt.ylabel('True')\n",
    "plt.show()"
   ]
  },
  {
   "cell_type": "markdown",
   "metadata": {},
   "source": [
    "#CNN_GloVe"
   ]
  },
  {
   "cell_type": "code",
   "execution_count": 72,
   "metadata": {},
   "outputs": [
    {
     "name": "stdout",
     "output_type": "stream",
     "text": [
      "Model: \"sequential_2\"\n",
      "_________________________________________________________________\n",
      " Layer (type)                Output Shape              Param #   \n",
      "=================================================================\n",
      " embedding (Embedding)       multiple                  4216100   \n",
      "                                                                 \n",
      " conv1d (Conv1D)             (None, 7569, 128)         38528     \n",
      "                                                                 \n",
      " leaky_re_lu (LeakyReLU)     (None, 7569, 128)         0         \n",
      "                                                                 \n",
      " max_pooling1d (MaxPooling1  (None, 2523, 128)         0         \n",
      " D)                                                              \n",
      "                                                                 \n",
      " batch_normalization (Batch  (None, 2523, 128)         512       \n",
      " Normalization)                                                  \n",
      "                                                                 \n",
      " conv1d_1 (Conv1D)           (None, 2521, 128)         49280     \n",
      "                                                                 \n",
      " leaky_re_lu_1 (LeakyReLU)   (None, 2521, 128)         0         \n",
      "                                                                 \n",
      " max_pooling1d_1 (MaxPoolin  (None, 840, 128)          0         \n",
      " g1D)                                                            \n",
      "                                                                 \n",
      " batch_normalization_1 (Bat  (None, 840, 128)          512       \n",
      " chNormalization)                                                \n",
      "                                                                 \n",
      " flatten_1 (Flatten)         (None, 107520)            0         \n",
      "                                                                 \n",
      " dense_5 (Dense)             (None, 128)               13762688  \n",
      "                                                                 \n",
      " dropout (Dropout)           (None, 128)               0         \n",
      "                                                                 \n",
      " dense_6 (Dense)             (None, 6)                 774       \n",
      "                                                                 \n",
      "=================================================================\n",
      "Total params: 18068394 (68.93 MB)\n",
      "Trainable params: 13851782 (52.84 MB)\n",
      "Non-trainable params: 4216612 (16.09 MB)\n",
      "_________________________________________________________________\n"
     ]
    },
    {
     "name": "stderr",
     "output_type": "stream",
     "text": [
      "WARNING:absl:`lr` is deprecated in Keras optimizer, please use `learning_rate` or use the legacy optimizer, e.g.,tf.keras.optimizers.legacy.SGD.\n"
     ]
    }
   ],
   "source": [
    "sequence100_input = Input(shape=(length_long_sentence,), dtype='int32')\n",
    "glove100_embedded_sequences = glove100_embedding_layer(sequence100_input)\n",
    "\n",
    "model = Sequential([\n",
    "    glove100_embedding_layer,\n",
    "    Conv1D(128, 3),\n",
    "    LeakyReLU(),\n",
    "    MaxPooling1D(3),\n",
    "    BatchNormalization(),\n",
    "    Conv1D(128, 3),\n",
    "    LeakyReLU(),\n",
    "    MaxPooling1D(3),\n",
    "    BatchNormalization(),\n",
    "    #GlobalMaxPooling1D(),\n",
    "    Flatten(),\n",
    "    Dense(128, activation='relu'),\n",
    "    Dropout(0.2),\n",
    "    Dense(6, activation='softmax')\n",
    "])\n",
    "\n",
    "model.summary()\n",
    "opt = SGD(lr=0.001)\n",
    "model.compile(\n",
    "    optimizer=opt,\n",
    "    loss='categorical_crossentropy',\n",
    "    metrics = ['acc']\n",
    ")"
   ]
  },
  {
   "cell_type": "code",
   "execution_count": 73,
   "metadata": {},
   "outputs": [
    {
     "name": "stdout",
     "output_type": "stream",
     "text": [
      "Epoch 1/15\n",
      "121/121 [==============================] - 238s 2s/step - loss: 2.4647 - acc: 0.3352 - val_loss: 1.6560 - val_acc: 0.3144\n",
      "Epoch 2/15\n",
      "121/121 [==============================] - 251s 2s/step - loss: 1.4381 - acc: 0.3530 - val_loss: 1.7477 - val_acc: 0.3619\n",
      "Epoch 3/15\n",
      "121/121 [==============================] - 271s 2s/step - loss: 1.4666 - acc: 0.3565 - val_loss: 1.4753 - val_acc: 0.3694\n",
      "Epoch 4/15\n",
      "121/121 [==============================] - 246s 2s/step - loss: 1.4134 - acc: 0.3642 - val_loss: 1.6542 - val_acc: 0.3627\n",
      "Epoch 5/15\n",
      "121/121 [==============================] - 254s 2s/step - loss: 1.4036 - acc: 0.3642 - val_loss: 1.4026 - val_acc: 0.3634\n",
      "Epoch 6/15\n",
      "121/121 [==============================] - 262s 2s/step - loss: 1.3761 - acc: 0.3750 - val_loss: 1.8530 - val_acc: 0.3529\n",
      "Epoch 7/15\n",
      "121/121 [==============================] - 273s 2s/step - loss: 1.3999 - acc: 0.3759 - val_loss: 1.8359 - val_acc: 0.3787\n",
      "Epoch 8/15\n",
      "121/121 [==============================] - 255s 2s/step - loss: 1.3509 - acc: 0.3805 - val_loss: 1.4080 - val_acc: 0.3747\n",
      "Epoch 9/15\n",
      "121/121 [==============================] - 274s 2s/step - loss: 1.3305 - acc: 0.3980 - val_loss: 4.3154 - val_acc: 0.3147\n",
      "Epoch 10/15\n",
      "121/121 [==============================] - 269s 2s/step - loss: 1.3611 - acc: 0.3922 - val_loss: 1.6488 - val_acc: 0.2852\n",
      "Epoch 11/15\n",
      "121/121 [==============================] - 262s 2s/step - loss: 1.3118 - acc: 0.4069 - val_loss: 3.6621 - val_acc: 0.3147\n",
      "Epoch 12/15\n",
      "121/121 [==============================] - 241s 2s/step - loss: 1.3133 - acc: 0.4034 - val_loss: 1.3992 - val_acc: 0.3884\n",
      "Epoch 13/15\n",
      "121/121 [==============================] - 302s 2s/step - loss: 1.2681 - acc: 0.4269 - val_loss: 1.3968 - val_acc: 0.3597\n",
      "Epoch 14/15\n",
      "121/121 [==============================] - 263s 2s/step - loss: 1.2445 - acc: 0.4291 - val_loss: 1.5331 - val_acc: 0.3522\n",
      "Epoch 15/15\n",
      "121/121 [==============================] - 279s 2s/step - loss: 1.2274 - acc: 0.4477 - val_loss: 1.4445 - val_acc: 0.3927\n"
     ]
    },
    {
     "data": {
      "text/plain": [
       "<keras.src.callbacks.History at 0x20352824d00>"
      ]
     },
     "execution_count": 73,
     "metadata": {},
     "output_type": "execute_result"
    }
   ],
   "source": [
    "model.fit(glove100_train, train_labels,\n",
    "            validation_data=(glove100_val, glove_val_labels),\n",
    "            epochs = 15,\n",
    "            batch_size=100)"
   ]
  },
  {
   "cell_type": "code",
   "execution_count": 74,
   "metadata": {},
   "outputs": [
    {
     "name": "stdout",
     "output_type": "stream",
     "text": [
      "376/376 [==============================] - 58s 153ms/step\n",
      "126/126 [==============================] - 20s 159ms/step\n",
      "126/126 [==============================] - 21s 163ms/step\n"
     ]
    }
   ],
   "source": [
    "# Generate train F1 score\n",
    "train_preds = model.predict(glove100_train)\n",
    "train_f1 = f1_score(np.argmax(train_preds, axis=1), \n",
    "                    np.argmax(train_labels, axis=1), \n",
    "                    average='macro')\n",
    "# Generate test F1 score                    \n",
    "preds = model.predict(glove100_test)\n",
    "cnn_preds = model.predict(glove100_test)\n",
    "test_f1 = f1_score(np.argmax(preds, axis=1), test_labels, average='macro')"
   ]
  },
  {
   "cell_type": "code",
   "execution_count": 75,
   "metadata": {},
   "outputs": [
    {
     "data": {
      "image/png": "[encoded data removed]",
      "text/plain": [
       "<Figure size 800x600 with 2 Axes>"
      ]
     },
     "metadata": {},
     "output_type": "display_data"
    }
   ],
   "source": [
    "# Confusion matrix for test data\n",
    "conf_matrix = confusion_matrix(test_labels, np.argmax(preds, axis=1))\n",
    "\n",
    "# Plot confusion matrix with the same style as the previous one\n",
    "plt.figure(figsize=(8, 6))\n",
    "sns.heatmap(conf_matrix, annot=True, fmt='d', cmap='viridis')\n",
    "plt.title('Confusion Matrix - CNN (2 layers) with GloVe 100 dim')\n",
    "plt.xlabel('Predicted')\n",
    "plt.ylabel('True')\n",
    "plt.show()"
   ]
  },
  {
   "cell_type": "code",
   "execution_count": 76,
   "metadata": {},
   "outputs": [
    {
     "data": {
      "text/plain": [
       "{'model': 'CNN- GloVe', 'train_f1': 0.183, 'test_f1': 0.154}"
      ]
     },
     "execution_count": 76,
     "metadata": {},
     "output_type": "execute_result"
    }
   ],
   "source": [
    "# Update the data dictionary with the F1 scores\n",
    "data = dict()\n",
    "data['model'] = 'CNN- GloVe'\n",
    "data['train_f1'] = round(train_f1, 3)\n",
    "data['test_f1'] = round(test_f1, 3)\n",
    "classifier_results.append(data)\n",
    "data"
   ]
  },
  {
   "cell_type": "code",
   "execution_count": 77,
   "metadata": {},
   "outputs": [
    {
     "data": {
      "text/html": [
       "<div>\n",
       "<style scoped>\n",
       "    .dataframe tbody tr th:only-of-type {\n",
       "        vertical-align: middle;\n",
       "    }\n",
       "\n",
       "    .dataframe tbody tr th {\n",
       "        vertical-align: top;\n",
       "    }\n",
       "\n",
       "    .dataframe thead th {\n",
       "        text-align: right;\n",
       "    }\n",
       "</style>\n",
       "<table border=\"1\" class=\"dataframe\">\n",
       "  <thead>\n",
       "    <tr style=\"text-align: right;\">\n",
       "      <th></th>\n",
       "      <th>model</th>\n",
       "      <th>train_f1</th>\n",
       "      <th>val_f1</th>\n",
       "      <th>test_f1</th>\n",
       "    </tr>\n",
       "  </thead>\n",
       "  <tbody>\n",
       "    <tr>\n",
       "      <th>0</th>\n",
       "      <td>RF TF-IDF</td>\n",
       "      <td>0.941</td>\n",
       "      <td>0.226</td>\n",
       "      <td>0.259</td>\n",
       "    </tr>\n",
       "    <tr>\n",
       "      <th>1</th>\n",
       "      <td>DNN- GloVe</td>\n",
       "      <td>0.978</td>\n",
       "      <td>NaN</td>\n",
       "      <td>0.247</td>\n",
       "    </tr>\n",
       "    <tr>\n",
       "      <th>2</th>\n",
       "      <td>DNN- TF-IDF</td>\n",
       "      <td>0.440</td>\n",
       "      <td>NaN</td>\n",
       "      <td>0.273</td>\n",
       "    </tr>\n",
       "    <tr>\n",
       "      <th>3</th>\n",
       "      <td>CNN- GloVe</td>\n",
       "      <td>0.183</td>\n",
       "      <td>NaN</td>\n",
       "      <td>0.154</td>\n",
       "    </tr>\n",
       "  </tbody>\n",
       "</table>\n",
       "</div>"
      ],
      "text/plain": [
       "         model  train_f1  val_f1  test_f1\n",
       "0    RF TF-IDF     0.941   0.226    0.259\n",
       "1   DNN- GloVe     0.978     NaN    0.247\n",
       "2  DNN- TF-IDF     0.440     NaN    0.273\n",
       "3   CNN- GloVe     0.183     NaN    0.154"
      ]
     },
     "execution_count": 77,
     "metadata": {},
     "output_type": "execute_result"
    }
   ],
   "source": [
    "pd.DataFrame(classifier_results)"
   ]
  },
  {
   "cell_type": "markdown",
   "metadata": {},
   "source": [
    "# Balanced Data"
   ]
  },
  {
   "cell_type": "code",
   "execution_count": 78,
   "metadata": {},
   "outputs": [],
   "source": [
    "#UPSAMPLED DATA\n",
    "# Reset indices\n",
    "df_downsampled.reset_index(drop=True, inplace=True)"
   ]
  },
  {
   "cell_type": "code",
   "execution_count": 79,
   "metadata": {},
   "outputs": [],
   "source": [
    "df_up =  df_downsampled\n",
    "docs_up = df_downsampled['final_text'].tolist()"
   ]
  },
  {
   "cell_type": "code",
   "execution_count": 82,
   "metadata": {},
   "outputs": [
    {
     "data": {
      "text/plain": [
       "(1522, 508, 508, 1016)"
      ]
     },
     "execution_count": 82,
     "metadata": {},
     "output_type": "execute_result"
    }
   ],
   "source": [
    "# #UPSAMPLED DATA\n",
    "# df_up = df_upsampled\n",
    "# docs_up = df_upsampled['final_text'].tolist()\n",
    "\n",
    "# Split the upsampled data\n",
    "X_train_up, X_temp_up, y_train_up, y_temp_up = train_test_split(df_up, df_up['rating'], test_size=0.4, stratify=df_up['rating'], random_state=42)\n",
    "X_val_up, X_test_up, y_val_up, y_test_up = train_test_split(X_temp_up, y_temp_up, test_size=0.5, stratify=X_temp_up['rating'], random_state=42)\n",
    "\n",
    "# Assign names to the upsampled splits\n",
    "train_up = X_train_up\n",
    "val_up = X_val_up\n",
    "test_up = X_test_up\n",
    "rf_train_up = X_temp_up  # rf_train_up will contain the remaining data after creating train, val, and test sets\n",
    "\n",
    "# Check the lengths of the upsampled splits\n",
    "len(train_up), len(val_up), len(test_up), len(rf_train_up)\n"
   ]
  },
  {
   "cell_type": "code",
   "execution_count": 83,
   "metadata": {},
   "outputs": [],
   "source": [
    "# Document sets corresponding to the upsampled splits\n",
    "train_docs_up = [docs_up[i] for i in X_train_up.index]\n",
    "rf_train_docs_up = [docs_up[i] for i in rf_train_up.index]\n",
    "val_docs_up = [docs_up[i] for i in X_val_up.index]\n",
    "test_docs_up = [docs_up[i] for i in X_test_up.index]\n"
   ]
  },
  {
   "cell_type": "code",
   "execution_count": 84,
   "metadata": {},
   "outputs": [
    {
     "data": {
      "text/plain": [
       "(1522, 508, 508, 1016)"
      ]
     },
     "execution_count": 84,
     "metadata": {},
     "output_type": "execute_result"
    }
   ],
   "source": [
    "# Length of the upsampled train docs\n",
    "len(train_docs_up), len(val_docs_up), len(test_docs_up), len(rf_train_docs_up)"
   ]
  },
  {
   "cell_type": "code",
   "execution_count": 85,
   "metadata": {},
   "outputs": [
    {
     "data": {
      "text/plain": [
       "1    254\n",
       "2    254\n",
       "0    254\n",
       "5    254\n",
       "4    253\n",
       "3    253\n",
       "Name: rating, dtype: int64"
      ]
     },
     "execution_count": 85,
     "metadata": {},
     "output_type": "execute_result"
    }
   ],
   "source": [
    "train_up.rating.value_counts()"
   ]
  },
  {
   "cell_type": "markdown",
   "metadata": {},
   "source": [
    "TF-IDF_Balanced Data"
   ]
  },
  {
   "cell_type": "code",
   "execution_count": 86,
   "metadata": {},
   "outputs": [],
   "source": [
    "# TF-IDF for upsampled data\n",
    "tfidf100_up = TfidfVectorizer(ngram_range=(1, 2),\n",
    "                              max_features=100)\n",
    "\n",
    "tfidf100_train_up_matrix = tfidf100_up.fit_transform(train_docs_up).toarray()\n",
    "tfidf100_val_up_matrix = tfidf100_up.transform(val_docs_up).toarray()\n",
    "tfidf100_test_up_matrix = tfidf100_up.transform(test_docs_up).toarray()\n",
    "\n",
    "rf_tfidf100_train_up = tfidf100_up.fit_transform(rf_train_docs_up).toarray()\n",
    "rf_tfidf100_test_up = tfidf100_up.transform(test_docs_up).toarray()\n"
   ]
  },
  {
   "cell_type": "code",
   "execution_count": 87,
   "metadata": {},
   "outputs": [],
   "source": [
    "# Export tfidf arrays for modeling on upsampled data\n",
    "np.save('embeddings_arrays/tfidf100_train_up.npy', tfidf100_train_up_matrix)\n",
    "np.save('embeddings_arrays/tfidf100_val_up.npy', tfidf100_val_up_matrix)\n",
    "np.save('embeddings_arrays/tfidf100_test_up.npy', tfidf100_test_up_matrix)\n",
    "np.save('embeddings_arrays/tfidf100_rf_train_up.npy', rf_tfidf100_train_up)"
   ]
  },
  {
   "cell_type": "markdown",
   "metadata": {},
   "source": [
    "Glove_Balanced"
   ]
  },
  {
   "cell_type": "code",
   "execution_count": 88,
   "metadata": {},
   "outputs": [
    {
     "name": "stdout",
     "output_type": "stream",
     "text": [
      "Found 400000 word vectors.\n"
     ]
    }
   ],
   "source": [
    "# Load GloVe embeddings with 100 dimensions for upsampled data\n",
    "ndim = 100\n",
    "glove100_embeddings_index_up = {}\n",
    "\n",
    "with open(glove100_path, encoding='utf-8') as f:\n",
    "    for line in f:\n",
    "        values = line.split()\n",
    "        ps = PorterStemmer()\n",
    "        word = values[0]\n",
    "        coefs = np.asarray(values[1:], dtype='float32')\n",
    "        glove100_embeddings_index_up[word] = coefs\n",
    "\n",
    "print('Found %s word vectors.' % len(glove100_embeddings_index_up))"
   ]
  },
  {
   "cell_type": "code",
   "execution_count": 89,
   "metadata": {},
   "outputs": [],
   "source": [
    "word_count_up = lambda sentence: len(word_tokenize(sentence))\n",
    "length_long_sentence_up = len(max(train_docs_up, key=word_count_up))"
   ]
  },
  {
   "cell_type": "code",
   "execution_count": 90,
   "metadata": {},
   "outputs": [
    {
     "name": "stdout",
     "output_type": "stream",
     "text": [
      "Vocabulary Size: 13620\n"
     ]
    }
   ],
   "source": [
    "# Initialize the tokenizer for upsampled data\n",
    "tokenizer_up = Tokenizer()\n",
    "tokenizer_up.fit_on_texts(train_docs_up)\n",
    "\n",
    "# Get the word index for upsampled data\n",
    "word_index_up = tokenizer_up.word_index\n",
    "\n",
    "# Check the vocabulary size for upsampled data\n",
    "vocabulary_size_up = len(word_index_up)\n",
    "print(\"Vocabulary Size:\", vocabulary_size_up)\n"
   ]
  },
  {
   "cell_type": "code",
   "execution_count": 91,
   "metadata": {},
   "outputs": [],
   "source": [
    "# Reinitialize the tokenizer for upsampled data\n",
    "tokenizer_up = Tokenizer(num_words=1000)\n",
    "tokenizer_up.fit_on_texts(train_docs_up)\n",
    "sequences_up = tokenizer_up.texts_to_sequences(train_docs_up)\n",
    "glove100_train_up = pad_sequences(sequences_up, length_long_sentence_up)\n",
    "word_index_up = tokenizer_up.word_index\n",
    "len(word_index_up)\n",
    "\n",
    "glove100_test_up = tokenizer_up.texts_to_sequences(test_docs_up)\n",
    "glove100_test_up = np.asarray(pad_sequences(glove100_test_up, length_long_sentence_up))\n",
    "glove100_val_up = tokenizer_up.texts_to_sequences(val_docs_up)\n",
    "glove100_val_up = np.asarray(pad_sequences(glove100_val_up, length_long_sentence_up))\n"
   ]
  },
  {
   "cell_type": "code",
   "execution_count": 92,
   "metadata": {},
   "outputs": [],
   "source": [
    "# Creates labels for upsampled data\n",
    "train_labels_up = np.asarray(train_up['rating'])\n",
    "val_labels_up = np.asarray(val_up['rating'])\n",
    "test_labels_up = np.asarray(test_up['rating'])\n",
    "rf_train_labels_up = np.asarray(rf_train_up['rating'])\n",
    "\n",
    "# Convert to one-hot encoding for upsampled data\n",
    "train_labels_up = to_categorical(train_labels_up, num_classes=6)\n",
    "glove_val_labels_up = to_categorical(val_labels_up, num_classes=6)\n",
    "glove_test_labels_up = to_categorical(test_labels_up, num_classes=6)\n",
    "rf_train_labels_up = to_categorical(rf_train_labels_up, num_classes=6)\n"
   ]
  },
  {
   "cell_type": "code",
   "execution_count": 93,
   "metadata": {},
   "outputs": [
    {
     "data": {
      "image/png": "[encoded data removed]",
      "text/plain": [
       "<Figure size 640x480 with 1 Axes>"
      ]
     },
     "metadata": {},
     "output_type": "display_data"
    }
   ],
   "source": [
    "sns.countplot(x=train_up['rating']);\n"
   ]
  },
  {
   "cell_type": "code",
   "execution_count": 94,
   "metadata": {},
   "outputs": [
    {
     "name": "stdout",
     "output_type": "stream",
     "text": [
      "[0 1 2 3 4 5]\n",
      "[0. 1.]\n",
      "[0 1 2 3 4 5]\n"
     ]
    }
   ],
   "source": [
    "print(np.unique(test_labels_up))\n",
    "print(np.unique(train_labels_up))\n",
    "print(np.unique(val_labels_up))"
   ]
  },
  {
   "cell_type": "code",
   "execution_count": 95,
   "metadata": {},
   "outputs": [
    {
     "data": {
      "text/plain": [
       "((1522, 7223), (508, 7223), (1522, 6), (508, 6), (508, 6))"
      ]
     },
     "execution_count": 95,
     "metadata": {},
     "output_type": "execute_result"
    }
   ],
   "source": [
    "glove100_train_up.shape, glove100_val_up.shape, train_labels_up.shape, glove_val_labels_up.shape, glove_test_labels_up.shape"
   ]
  },
  {
   "cell_type": "code",
   "execution_count": 96,
   "metadata": {},
   "outputs": [],
   "source": [
    "# Save labels for the upsampled data\n",
    "np.save('embeddings_arrays/train_labels_up.npy', train_labels_up)\n",
    "np.save('embeddings_arrays/val_labels_up.npy', val_labels_up)\n",
    "np.save('embeddings_arrays/test_labels_up.npy', test_labels_up)"
   ]
  },
  {
   "cell_type": "code",
   "execution_count": 97,
   "metadata": {},
   "outputs": [],
   "source": [
    "# Initialize the embedding matrix for the upsampled data\n",
    "glove100_embedding_matrix_up = np.zeros((len(word_index_up) + 1, ndim))\n",
    "for word, i in word_index_up.items():\n",
    "    embedding_vector = glove100_embeddings_index_up.get(word)\n",
    "    if embedding_vector is not None:\n",
    "        # Words not found in the embedding index will be all-zeros\n",
    "        glove100_embedding_matrix_up[i] = embedding_vector"
   ]
  },
  {
   "cell_type": "code",
   "execution_count": 98,
   "metadata": {},
   "outputs": [],
   "source": [
    "from tensorflow.keras.layers import Embedding\n",
    "glove100_embedding_layer_up = Embedding(\n",
    "    len(word_index_up) + 1,  # input len(embedding array)\n",
    "    100,\n",
    "    weights=[glove100_embedding_matrix_up],\n",
    "    input_length=length_long_sentence_up,\n",
    "    trainable=False\n",
    ")"
   ]
  },
  {
   "cell_type": "code",
   "execution_count": 99,
   "metadata": {},
   "outputs": [],
   "source": [
    "sequence100_input_up = Input(shape=(100,), dtype='int32')\n",
    "glove100embedded_sequences_up = glove100_embedding_layer_up(sequence100_input_up)"
   ]
  },
  {
   "cell_type": "code",
   "execution_count": 100,
   "metadata": {},
   "outputs": [],
   "source": [
    "# Export weights for the upsampled data\n",
    "np.save('embeddings_arrays/glove100_weights_up.npy', glove100_embedding_matrix_up)"
   ]
  },
  {
   "cell_type": "markdown",
   "metadata": {},
   "source": [
    "Random Forest_Balanced Data"
   ]
  },
  {
   "cell_type": "code",
   "execution_count": 101,
   "metadata": {},
   "outputs": [],
   "source": [
    "rf_train_labels_up = np.asarray(rf_train_up.rating)\n",
    "rf_test_labels_up = np.asarray(test_up.rating)\n",
    "seed = 42"
   ]
  },
  {
   "cell_type": "code",
   "execution_count": 102,
   "metadata": {},
   "outputs": [],
   "source": [
    "data_up = dict()\n",
    "rfc_up = RandomForestClassifier(random_state=seed, n_estimators=100)\n",
    "rfr_up = RandomForestRegressor(random_state=seed, n_estimators=100)"
   ]
  },
  {
   "cell_type": "code",
   "execution_count": 103,
   "metadata": {},
   "outputs": [],
   "source": [
    "cv_scores_up = cross_val_score(rfc_up, rf_tfidf100_train_up, \n",
    "                               rf_train_labels_up, cv=5, \n",
    "                               scoring='f1_macro', n_jobs=-1)"
   ]
  },
  {
   "cell_type": "code",
   "execution_count": 104,
   "metadata": {},
   "outputs": [
    {
     "data": {
      "text/html": [
       "<style>#sk-container-id-2 {color: black;}#sk-container-id-2 pre{padding: 0;}#sk-container-id-2 div.sk-toggleable {background-color: white;}#sk-container-id-2 label.sk-toggleable__label {cursor: pointer;display: block;width: 100%;margin-bottom: 0;padding: 0.3em;box-sizing: border-box;text-align: center;}#sk-container-id-2 label.sk-toggleable__label-arrow:before {content: \"▸\";float: left;margin-right: 0.25em;color: #696969;}#sk-container-id-2 label.sk-toggleable__label-arrow:hover:before {color: black;}#sk-container-id-2 div.sk-estimator:hover label.sk-toggleable__label-arrow:before {color: black;}#sk-container-id-2 div.sk-toggleable__content {max-height: 0;max-width: 0;overflow: hidden;text-align: left;background-color: #f0f8ff;}#sk-container-id-2 div.sk-toggleable__content pre {margin: 0.2em;color: black;border-radius: 0.25em;background-color: #f0f8ff;}#sk-container-id-2 input.sk-toggleable__control:checked~div.sk-toggleable__content {max-height: 200px;max-width: 100%;overflow: auto;}#sk-container-id-2 input.sk-toggleable__control:checked~label.sk-toggleable__label-arrow:before {content: \"▾\";}#sk-container-id-2 div.sk-estimator input.sk-toggleable__control:checked~label.sk-toggleable__label {background-color: #d4ebff;}#sk-container-id-2 div.sk-label input.sk-toggleable__control:checked~label.sk-toggleable__label {background-color: #d4ebff;}#sk-container-id-2 input.sk-hidden--visually {border: 0;clip: rect(1px 1px 1px 1px);clip: rect(1px, 1px, 1px, 1px);height: 1px;margin: -1px;overflow: hidden;padding: 0;position: absolute;width: 1px;}#sk-container-id-2 div.sk-estimator {font-family: monospace;background-color: #f0f8ff;border: 1px dotted black;border-radius: 0.25em;box-sizing: border-box;margin-bottom: 0.5em;}#sk-container-id-2 div.sk-estimator:hover {background-color: #d4ebff;}#sk-container-id-2 div.sk-parallel-item::after {content: \"\";width: 100%;border-bottom: 1px solid gray;flex-grow: 1;}#sk-container-id-2 div.sk-label:hover label.sk-toggleable__label {background-color: #d4ebff;}#sk-container-id-2 div.sk-serial::before {content: \"\";position: absolute;border-left: 1px solid gray;box-sizing: border-box;top: 0;bottom: 0;left: 50%;z-index: 0;}#sk-container-id-2 div.sk-serial {display: flex;flex-direction: column;align-items: center;background-color: white;padding-right: 0.2em;padding-left: 0.2em;position: relative;}#sk-container-id-2 div.sk-item {position: relative;z-index: 1;}#sk-container-id-2 div.sk-parallel {display: flex;align-items: stretch;justify-content: center;background-color: white;position: relative;}#sk-container-id-2 div.sk-item::before, #sk-container-id-2 div.sk-parallel-item::before {content: \"\";position: absolute;border-left: 1px solid gray;box-sizing: border-box;top: 0;bottom: 0;left: 50%;z-index: -1;}#sk-container-id-2 div.sk-parallel-item {display: flex;flex-direction: column;z-index: 1;position: relative;background-color: white;}#sk-container-id-2 div.sk-parallel-item:first-child::after {align-self: flex-end;width: 50%;}#sk-container-id-2 div.sk-parallel-item:last-child::after {align-self: flex-start;width: 50%;}#sk-container-id-2 div.sk-parallel-item:only-child::after {width: 0;}#sk-container-id-2 div.sk-dashed-wrapped {border: 1px dashed gray;margin: 0 0.4em 0.5em 0.4em;box-sizing: border-box;padding-bottom: 0.4em;background-color: white;}#sk-container-id-2 div.sk-label label {font-family: monospace;font-weight: bold;display: inline-block;line-height: 1.2em;}#sk-container-id-2 div.sk-label-container {text-align: center;}#sk-container-id-2 div.sk-container {/* jupyter's `normalize.less` sets `[hidden] { display: none; }` but bootstrap.min.css set `[hidden] { display: none !important; }` so we also need the `!important` here to be able to override the default hidden behavior on the sphinx rendered scikit-learn.org. See: https://github.com/scikit-learn/scikit-learn/issues/21755 */display: inline-block !important;position: relative;}#sk-container-id-2 div.sk-text-repr-fallback {display: none;}</style><div id=\"sk-container-id-2\" class=\"sk-top-container\"><div class=\"sk-text-repr-fallback\"><pre>RandomForestClassifier(random_state=42)</pre><b>In a Jupyter environment, please rerun this cell to show the HTML representation or trust the notebook. <br />On GitHub, the HTML representation is unable to render, please try loading this page with nbviewer.org.</b></div><div class=\"sk-container\" hidden><div class=\"sk-item\"><div class=\"sk-estimator sk-toggleable\"><input class=\"sk-toggleable__control sk-hidden--visually\" id=\"sk-estimator-id-2\" type=\"checkbox\" checked><label for=\"sk-estimator-id-2\" class=\"sk-toggleable__label sk-toggleable__label-arrow\">RandomForestClassifier</label><div class=\"sk-toggleable__content\"><pre>RandomForestClassifier(random_state=42)</pre></div></div></div></div></div>"
      ],
      "text/plain": [
       "RandomForestClassifier(random_state=42)"
      ]
     },
     "execution_count": 104,
     "metadata": {},
     "output_type": "execute_result"
    }
   ],
   "source": [
    "# Fit the classifier with training data for upsampled data\n",
    "rfc_up.fit(rf_tfidf100_train_up, rf_train_labels_up)"
   ]
  },
  {
   "cell_type": "code",
   "execution_count": 105,
   "metadata": {},
   "outputs": [],
   "source": [
    "# Predictions for the upsampled data\n",
    "rfc_train_preds_up = rfc_up.predict(rf_tfidf100_train_up)\n",
    "rfc_preds_up = rfc_up.predict(rf_tfidf100_test_up)"
   ]
  },
  {
   "cell_type": "code",
   "execution_count": 106,
   "metadata": {},
   "outputs": [
    {
     "name": "stdout",
     "output_type": "stream",
     "text": [
      "[0 1 2 3 4 5]\n"
     ]
    }
   ],
   "source": [
    "print(np.unique(test_labels_up))"
   ]
  },
  {
   "cell_type": "code",
   "execution_count": 107,
   "metadata": {},
   "outputs": [],
   "source": [
    "data_up['model'] = 'RF TF-IDF Balanced'\n",
    "# Calculate F1 scores for upsampled data\n",
    "data_up['train_f1'] = round(f1_score(rfc_train_preds_up, rf_train_labels_up, average='macro'), 3)\n",
    "data_up['val_f1'] = round(np.mean(cv_scores_up), 3)\n",
    "data_up['test_f1'] = round(f1_score(rfc_preds_up, rf_test_labels_up, average='macro'), 3)"
   ]
  },
  {
   "cell_type": "code",
   "execution_count": 108,
   "metadata": {},
   "outputs": [
    {
     "data": {
      "image/png": "[encoded data removed]",
      "text/plain": [
       "<Figure size 800x600 with 2 Axes>"
      ]
     },
     "metadata": {},
     "output_type": "display_data"
    },
    {
     "data": {
      "text/plain": [
       "{'model': 'RF TF-IDF Balanced',\n",
       " 'train_f1': 0.97,\n",
       " 'val_f1': 0.336,\n",
       " 'test_f1': 0.969}"
      ]
     },
     "execution_count": 108,
     "metadata": {},
     "output_type": "execute_result"
    }
   ],
   "source": [
    "# Calculate confusion matrix for upsampled data\n",
    "conf_matrix_up = confusion_matrix(rf_test_labels_up, rfc_preds_up)\n",
    "\n",
    "# Visualize the confusion matrix for upsampled data\n",
    "plt.figure(figsize=(8, 6))\n",
    "sns.heatmap(conf_matrix_up, annot=True, fmt='d', cmap='viridis')\n",
    "plt.title('Confusion Matrix - Random Forest Balanced')\n",
    "plt.xlabel('Predicted')\n",
    "plt.ylabel('True')\n",
    "plt.show()\n",
    "\n",
    "# Append results for upsampled data to the classifier_results list\n",
    "classifier_results.append(data_up)\n",
    "data_up"
   ]
  },
  {
   "cell_type": "markdown",
   "metadata": {},
   "source": [
    "DNN_GLOVE_Balanced"
   ]
  },
  {
   "cell_type": "code",
   "execution_count": 109,
   "metadata": {},
   "outputs": [
    {
     "name": "stdout",
     "output_type": "stream",
     "text": [
      "Model: \"sequential_3\"\n",
      "_________________________________________________________________\n",
      " Layer (type)                Output Shape              Param #   \n",
      "=================================================================\n",
      " embedding (Embedding)       multiple                  4216100   \n",
      "                                                                 \n",
      " flatten_2 (Flatten)         (None, 722300)            0         \n",
      "                                                                 \n",
      " dense_7 (Dense)             (None, 128)               92454528  \n",
      "                                                                 \n",
      " dense_8 (Dense)             (None, 6)                 774       \n",
      "                                                                 \n",
      "=================================================================\n",
      "Total params: 96671402 (368.77 MB)\n",
      "Trainable params: 92455302 (352.69 MB)\n",
      "Non-trainable params: 4216100 (16.08 MB)\n",
      "_________________________________________________________________\n"
     ]
    }
   ],
   "source": [
    "sequence100_input_up = Input(shape=(length_long_sentence_up,), dtype='int32')\n",
    "glove100_embedded_sequences_up = glove100_embedding_layer(sequence100_input_up)\n",
    "model_up = Sequential([\n",
    "    sequence100_input_up,\n",
    "    glove100_embedding_layer,\n",
    "    Flatten(),\n",
    "    Dense(128, activation='relu'),\n",
    "    Dense(6, activation='softmax')\n",
    "])\n",
    "\n",
    "model_up.summary()\n",
    "opt = 'rmsprop'\n",
    "model_up.compile(\n",
    "    optimizer=opt,\n",
    "    loss='categorical_crossentropy',\n",
    "    metrics=['accuracy']\n",
    ")"
   ]
  },
  {
   "cell_type": "code",
   "execution_count": 110,
   "metadata": {},
   "outputs": [
    {
     "name": "stdout",
     "output_type": "stream",
     "text": [
      "Epoch 1/10\n",
      "48/48 [==============================] - 21s 430ms/step - loss: 1.9099 - accuracy: 0.2326 - val_loss: 1.7514 - val_accuracy: 0.2382\n",
      "Epoch 2/10\n",
      "48/48 [==============================] - 31s 643ms/step - loss: 1.6510 - accuracy: 0.3246 - val_loss: 1.7984 - val_accuracy: 0.2677\n",
      "Epoch 3/10\n",
      "48/48 [==============================] - 23s 469ms/step - loss: 1.2296 - accuracy: 0.5420 - val_loss: 1.9459 - val_accuracy: 0.2520\n",
      "Epoch 4/10\n",
      "48/48 [==============================] - 23s 471ms/step - loss: 0.7634 - accuracy: 0.7733 - val_loss: 2.0745 - val_accuracy: 0.2638\n",
      "Epoch 5/10\n",
      "48/48 [==============================] - 23s 482ms/step - loss: 0.4830 - accuracy: 0.8758 - val_loss: 2.5381 - val_accuracy: 0.2559\n",
      "Epoch 6/10\n",
      "48/48 [==============================] - 23s 480ms/step - loss: 0.3158 - accuracy: 0.9192 - val_loss: 2.4015 - val_accuracy: 0.2146\n",
      "Epoch 7/10\n",
      "48/48 [==============================] - 25s 512ms/step - loss: 0.2160 - accuracy: 0.9534 - val_loss: 2.6071 - val_accuracy: 0.2441\n",
      "Epoch 8/10\n",
      "48/48 [==============================] - 24s 504ms/step - loss: 0.1536 - accuracy: 0.9671 - val_loss: 2.8383 - val_accuracy: 0.2500\n",
      "Epoch 9/10\n",
      "48/48 [==============================] - 27s 565ms/step - loss: 0.1127 - accuracy: 0.9757 - val_loss: 2.9869 - val_accuracy: 0.2461\n",
      "Epoch 10/10\n",
      "48/48 [==============================] - 24s 500ms/step - loss: 0.0848 - accuracy: 0.9803 - val_loss: 3.2418 - val_accuracy: 0.2402\n"
     ]
    },
    {
     "data": {
      "text/plain": [
       "<keras.src.callbacks.History at 0x203b31fefa0>"
      ]
     },
     "execution_count": 110,
     "metadata": {},
     "output_type": "execute_result"
    }
   ],
   "source": [
    "data_up = dict()\n",
    "model_up.fit(glove100_train_up, train_labels_up,\n",
    "             validation_data=(glove100_val_up, glove_val_labels_up),\n",
    "             epochs=10,\n",
    "             batch_size=32)"
   ]
  },
  {
   "cell_type": "code",
   "execution_count": 111,
   "metadata": {},
   "outputs": [
    {
     "name": "stdout",
     "output_type": "stream",
     "text": [
      "16/16 [==============================] - 1s 67ms/step - loss: 3.1634 - accuracy: 0.2362\n"
     ]
    },
    {
     "data": {
      "text/plain": [
       "(3.1634249687194824, 0.23622047901153564)"
      ]
     },
     "execution_count": 111,
     "metadata": {},
     "output_type": "execute_result"
    }
   ],
   "source": [
    "test_loss_up, test_acc_up = model_up.evaluate(np.asarray(glove100_test_up), glove_test_labels_up)\n",
    "test_loss_up, test_acc_up"
   ]
  },
  {
   "cell_type": "code",
   "execution_count": 112,
   "metadata": {},
   "outputs": [
    {
     "data": {
      "text/plain": [
       "array([0., 1., 0., 0., 0., 0.], dtype=float32)"
      ]
     },
     "execution_count": 112,
     "metadata": {},
     "output_type": "execute_result"
    }
   ],
   "source": [
    "train_labels_up[0]"
   ]
  },
  {
   "cell_type": "code",
   "execution_count": 113,
   "metadata": {},
   "outputs": [
    {
     "name": "stdout",
     "output_type": "stream",
     "text": [
      "48/48 [==============================] - 3s 68ms/step\n",
      "16/16 [==============================] - 1s 62ms/step\n"
     ]
    }
   ],
   "source": [
    "# Generate train F1 score for upsampled data\n",
    "train_preds_up = model_up.predict(glove100_train_up)\n",
    "train_f1_up = f1_score(np.argmax(train_preds_up, axis=1), \n",
    "                       np.argmax(train_labels_up, axis=1), \n",
    "                       average='macro')\n",
    "\n",
    "# Generate test F1 score for upsampled data                    \n",
    "dnn_preds_up = model_up.predict(glove100_test_up)\n",
    "test_f1_up = f1_score(np.argmax(dnn_preds_up, axis=1), \n",
    "                      rf_test_labels_up, average='macro')"
   ]
  },
  {
   "cell_type": "code",
   "execution_count": 114,
   "metadata": {},
   "outputs": [
    {
     "data": {
      "text/plain": [
       "{'model': 'DNN-GloVe_Balanced', 'train_f1': 0.99, 'test_f1': 0.232}"
      ]
     },
     "execution_count": 114,
     "metadata": {},
     "output_type": "execute_result"
    }
   ],
   "source": [
    "# Update the model name and F1 scores for upsampled data\n",
    "data_up['model'] = 'DNN-GloVe_Balanced'\n",
    "data_up['train_f1'] = round(train_f1_up, 3)\n",
    "data_up['test_f1'] = round(test_f1_up, 3)\n",
    "\n",
    "# Append results for upsampled data to the classifier_results list\n",
    "classifier_results.append(data_up)\n",
    "data_up"
   ]
  },
  {
   "cell_type": "code",
   "execution_count": 115,
   "metadata": {},
   "outputs": [
    {
     "data": {
      "image/png": "[encoded data removed]",
      "text/plain": [
       "<Figure size 800x600 with 2 Axes>"
      ]
     },
     "metadata": {},
     "output_type": "display_data"
    }
   ],
   "source": [
    "# Generate predictions on the upsampled test set\n",
    "predicted_labels_up = np.argmax(dnn_preds_up, axis=1)\n",
    "\n",
    "# Create the confusion matrix for upsampled data\n",
    "conf_matrix_up = confusion_matrix(np.argmax(glove_test_labels_up, axis=1), predicted_labels_up)\n",
    "\n",
    "# Visualize the confusion matrix for upsampled data\n",
    "plt.figure(figsize=(8, 6))\n",
    "sns.heatmap(conf_matrix_up, annot=True, fmt='d', cmap='viridis')\n",
    "plt.title('Confusion Matrix - DNN with GloVe_Balanced')\n",
    "plt.xlabel('Predicted')\n",
    "plt.ylabel('True')\n",
    "plt.show()\n"
   ]
  },
  {
   "cell_type": "code",
   "execution_count": null,
   "metadata": {},
   "outputs": [],
   "source": [
    "DNN-TFIDF_Balanced data "
   ]
  },
  {
   "cell_type": "code",
   "execution_count": 117,
   "metadata": {},
   "outputs": [],
   "source": [
    "# Define the model\n",
    "model_balanced = Sequential([\n",
    "    Dense(32, input_shape=(tfidf100_train_up_matrix.shape[1],), activation='relu'),\n",
    "    Dense(128, activation='relu'),\n",
    "    Dense(6, activation='softmax')\n",
    "])"
   ]
  },
  {
   "cell_type": "code",
   "execution_count": 118,
   "metadata": {},
   "outputs": [
    {
     "name": "stdout",
     "output_type": "stream",
     "text": [
      "Model: \"sequential_4\"\n",
      "_________________________________________________________________\n",
      " Layer (type)                Output Shape              Param #   \n",
      "=================================================================\n",
      " dense_9 (Dense)             (None, 32)                3232      \n",
      "                                                                 \n",
      " dense_10 (Dense)            (None, 128)               4224      \n",
      "                                                                 \n",
      " dense_11 (Dense)            (None, 6)                 774       \n",
      "                                                                 \n",
      "=================================================================\n",
      "Total params: 8230 (32.15 KB)\n",
      "Trainable params: 8230 (32.15 KB)\n",
      "Non-trainable params: 0 (0.00 Byte)\n",
      "_________________________________________________________________\n"
     ]
    }
   ],
   "source": [
    "# Display the model summary\n",
    "model_balanced.summary()"
   ]
  },
  {
   "cell_type": "code",
   "execution_count": 119,
   "metadata": {},
   "outputs": [],
   "source": [
    "# Compile the model\n",
    "opt = 'rmsprop'\n",
    "model_balanced.compile(\n",
    "    optimizer=opt,\n",
    "    loss='categorical_crossentropy',\n",
    "    metrics=['accuracy']\n",
    ")"
   ]
  },
  {
   "cell_type": "code",
   "execution_count": 120,
   "metadata": {},
   "outputs": [
    {
     "name": "stdout",
     "output_type": "stream",
     "text": [
      "Epoch 1/15\n",
      "48/48 [==============================] - 0s 853us/step - loss: 1.7895 - accuracy: 0.1827\n",
      "Epoch 2/15\n",
      "48/48 [==============================] - 0s 842us/step - loss: 1.7697 - accuracy: 0.2602\n",
      "Epoch 3/15\n",
      "48/48 [==============================] - 0s 776us/step - loss: 1.7376 - accuracy: 0.3022\n",
      "Epoch 4/15\n",
      "48/48 [==============================] - 0s 827us/step - loss: 1.6868 - accuracy: 0.3384\n",
      "Epoch 5/15\n",
      "48/48 [==============================] - 0s 810us/step - loss: 1.6250 - accuracy: 0.3778\n",
      "Epoch 6/15\n",
      "48/48 [==============================] - 0s 767us/step - loss: 1.5704 - accuracy: 0.3883\n",
      "Epoch 7/15\n",
      "48/48 [==============================] - 0s 764us/step - loss: 1.5268 - accuracy: 0.4060\n",
      "Epoch 8/15\n",
      "48/48 [==============================] - 0s 836us/step - loss: 1.4957 - accuracy: 0.4126\n",
      "Epoch 9/15\n",
      "48/48 [==============================] - 0s 793us/step - loss: 1.4705 - accuracy: 0.4152\n",
      "Epoch 10/15\n",
      "48/48 [==============================] - 0s 789us/step - loss: 1.4498 - accuracy: 0.4317\n",
      "Epoch 11/15\n",
      "48/48 [==============================] - 0s 817us/step - loss: 1.4303 - accuracy: 0.4317\n",
      "Epoch 12/15\n",
      "48/48 [==============================] - 0s 783us/step - loss: 1.4159 - accuracy: 0.4415\n",
      "Epoch 13/15\n",
      "48/48 [==============================] - 0s 822us/step - loss: 1.4017 - accuracy: 0.4481\n",
      "Epoch 14/15\n",
      "48/48 [==============================] - 0s 774us/step - loss: 1.3882 - accuracy: 0.4428\n",
      "Epoch 15/15\n",
      "48/48 [==============================] - 0s 786us/step - loss: 1.3724 - accuracy: 0.4580\n"
     ]
    },
    {
     "data": {
      "text/plain": [
       "<keras.src.callbacks.History at 0x203b3521f40>"
      ]
     },
     "execution_count": 120,
     "metadata": {},
     "output_type": "execute_result"
    }
   ],
   "source": [
    "# Train the model on the balanced TF-IDF data\n",
    "model_balanced.fit(tfidf100_train_up_matrix, train_labels_up,\n",
    "                   epochs=15,\n",
    "                   batch_size=32)"
   ]
  },
  {
   "cell_type": "code",
   "execution_count": 121,
   "metadata": {},
   "outputs": [
    {
     "name": "stdout",
     "output_type": "stream",
     "text": [
      "48/48 [==============================] - 0s 646us/step\n",
      "16/16 [==============================] - 0s 853us/step\n",
      "Train F1 Score (Balanced TF-IDF): 0.4591840913748538\n",
      "Test F1 Score (Balanced TF-IDF): 0.32693451599893325\n"
     ]
    },
    {
     "data": {
      "text/plain": [
       "{'model': 'DNN- TF-IDF_Balanced', 'train_f1': 0.459, 'test_f1': 0.327}"
      ]
     },
     "execution_count": 121,
     "metadata": {},
     "output_type": "execute_result"
    }
   ],
   "source": [
    "# Generate train F1 score\n",
    "train_preds_tfidf_balanced = model_balanced.predict(tfidf100_train_up_matrix)\n",
    "train_f1_tfidf_balanced = f1_score(np.argmax(train_preds_tfidf_balanced, axis=1), np.argmax(train_labels_up, axis=1), average='macro')\n",
    "\n",
    "# Generate test F1 score\n",
    "test_preds_tfidf_balanced = model_balanced.predict(tfidf100_test_up_matrix)\n",
    "test_f1_tfidf_balanced = f1_score(np.argmax(test_preds_tfidf_balanced, axis=1), test_labels_up, average='macro')\n",
    "\n",
    "# Print or use the results as needed\n",
    "print(\"Train F1 Score (Balanced TF-IDF):\", train_f1_tfidf_balanced)\n",
    "print(\"Test F1 Score (Balanced TF-IDF):\", test_f1_tfidf_balanced)\n",
    "\n",
    "# Add the results to classifier_results for the balanced TF-IDF\n",
    "data_tfidf_balanced = {\n",
    "    'model': 'DNN- TF-IDF_Balanced',\n",
    "    'train_f1': round(train_f1_tfidf_balanced, 3),\n",
    "    'test_f1': round(test_f1_tfidf_balanced, 3)\n",
    "}\n",
    "# Append the new results to classifier_results\n",
    "classifier_results.append(data_tfidf_balanced)\n",
    "data_tfidf_balanced"
   ]
  },
  {
   "cell_type": "code",
   "execution_count": 122,
   "metadata": {},
   "outputs": [
    {
     "data": {
      "image/png": "[encoded data removed]",
      "text/plain": [
       "<Figure size 800x600 with 2 Axes>"
      ]
     },
     "metadata": {},
     "output_type": "display_data"
    }
   ],
   "source": [
    "# Generate predictions on the test set for the new model\n",
    "predicted_labels_tfidf_balanced = np.argmax(test_preds_tfidf_balanced, axis=1)\n",
    "\n",
    "# Create the confusion matrix for the new model\n",
    "conf_matrix_tfidf_balanced = confusion_matrix(test_labels_up, predicted_labels_tfidf_balanced)\n",
    "\n",
    "# Visualize the confusion matrix for the new model\n",
    "plt.figure(figsize=(8, 6))\n",
    "sns.heatmap(conf_matrix_tfidf_balanced, annot=True, fmt='d', cmap='viridis')\n",
    "plt.title('Confusion Matrix - DNN TFIDF_ Balanced')\n",
    "plt.xlabel('Predicted')\n",
    "plt.ylabel('True')\n",
    "plt.show()\n"
   ]
  },
  {
   "cell_type": "code",
   "execution_count": 123,
   "metadata": {},
   "outputs": [
    {
     "data": {
      "text/html": [
       "<div>\n",
       "<style scoped>\n",
       "    .dataframe tbody tr th:only-of-type {\n",
       "        vertical-align: middle;\n",
       "    }\n",
       "\n",
       "    .dataframe tbody tr th {\n",
       "        vertical-align: top;\n",
       "    }\n",
       "\n",
       "    .dataframe thead th {\n",
       "        text-align: right;\n",
       "    }\n",
       "</style>\n",
       "<table border=\"1\" class=\"dataframe\">\n",
       "  <thead>\n",
       "    <tr style=\"text-align: right;\">\n",
       "      <th></th>\n",
       "      <th>model</th>\n",
       "      <th>train_f1</th>\n",
       "      <th>val_f1</th>\n",
       "      <th>test_f1</th>\n",
       "    </tr>\n",
       "  </thead>\n",
       "  <tbody>\n",
       "    <tr>\n",
       "      <th>0</th>\n",
       "      <td>RF TF-IDF</td>\n",
       "      <td>0.941</td>\n",
       "      <td>0.226</td>\n",
       "      <td>0.259</td>\n",
       "    </tr>\n",
       "    <tr>\n",
       "      <th>1</th>\n",
       "      <td>DNN- GloVe</td>\n",
       "      <td>0.978</td>\n",
       "      <td>NaN</td>\n",
       "      <td>0.247</td>\n",
       "    </tr>\n",
       "    <tr>\n",
       "      <th>2</th>\n",
       "      <td>DNN- TF-IDF</td>\n",
       "      <td>0.440</td>\n",
       "      <td>NaN</td>\n",
       "      <td>0.273</td>\n",
       "    </tr>\n",
       "    <tr>\n",
       "      <th>3</th>\n",
       "      <td>CNN- GloVe</td>\n",
       "      <td>0.183</td>\n",
       "      <td>NaN</td>\n",
       "      <td>0.154</td>\n",
       "    </tr>\n",
       "    <tr>\n",
       "      <th>4</th>\n",
       "      <td>RF TF-IDF Balanced</td>\n",
       "      <td>0.970</td>\n",
       "      <td>0.336</td>\n",
       "      <td>0.969</td>\n",
       "    </tr>\n",
       "    <tr>\n",
       "      <th>5</th>\n",
       "      <td>DNN-GloVe_Balanced</td>\n",
       "      <td>0.990</td>\n",
       "      <td>NaN</td>\n",
       "      <td>0.232</td>\n",
       "    </tr>\n",
       "    <tr>\n",
       "      <th>6</th>\n",
       "      <td>DNN- TF-IDF_Balanced</td>\n",
       "      <td>0.459</td>\n",
       "      <td>NaN</td>\n",
       "      <td>0.327</td>\n",
       "    </tr>\n",
       "  </tbody>\n",
       "</table>\n",
       "</div>"
      ],
      "text/plain": [
       "                  model  train_f1  val_f1  test_f1\n",
       "0             RF TF-IDF     0.941   0.226    0.259\n",
       "1            DNN- GloVe     0.978     NaN    0.247\n",
       "2           DNN- TF-IDF     0.440     NaN    0.273\n",
       "3            CNN- GloVe     0.183     NaN    0.154\n",
       "4    RF TF-IDF Balanced     0.970   0.336    0.969\n",
       "5    DNN-GloVe_Balanced     0.990     NaN    0.232\n",
       "6  DNN- TF-IDF_Balanced     0.459     NaN    0.327"
      ]
     },
     "execution_count": 123,
     "metadata": {},
     "output_type": "execute_result"
    }
   ],
   "source": [
    "pd.DataFrame(classifier_results)"
   ]
  },
  {
   "cell_type": "code",
   "execution_count": null,
   "metadata": {},
   "outputs": [],
   "source": [
    "CNN Glove_Balanced "
   ]
  },
  {
   "cell_type": "code",
   "execution_count": 124,
   "metadata": {},
   "outputs": [],
   "source": [
    "# Define the model architecture for balanced GloVe embeddings\n",
    "model_glove_balanced = Sequential([\n",
    "    Embedding(len(word_index_up) + 1, 100, weights=[glove100_embedding_matrix_up], input_length=length_long_sentence_up, trainable=False),\n",
    "    Conv1D(128, 3),\n",
    "    LeakyReLU(),\n",
    "    MaxPooling1D(3),\n",
    "    BatchNormalization(),\n",
    "    Conv1D(128, 3),\n",
    "    LeakyReLU(),\n",
    "    MaxPooling1D(3),\n",
    "    BatchNormalization(),\n",
    "    Flatten(),\n",
    "    Dense(128, activation='relu'),\n",
    "    Dropout(0.2),\n",
    "    Dense(6, activation='softmax')\n",
    "])"
   ]
  },
  {
   "cell_type": "code",
   "execution_count": 125,
   "metadata": {},
   "outputs": [
    {
     "name": "stdout",
     "output_type": "stream",
     "text": [
      "Model: \"sequential_5\"\n",
      "_________________________________________________________________\n",
      " Layer (type)                Output Shape              Param #   \n",
      "=================================================================\n",
      " embedding_2 (Embedding)     (None, 7223, 100)         1362100   \n",
      "                                                                 \n",
      " conv1d_2 (Conv1D)           (None, 7221, 128)         38528     \n",
      "                                                                 \n",
      " leaky_re_lu_2 (LeakyReLU)   (None, 7221, 128)         0         \n",
      "                                                                 \n",
      " max_pooling1d_2 (MaxPoolin  (None, 2407, 128)         0         \n",
      " g1D)                                                            \n",
      "                                                                 \n",
      " batch_normalization_2 (Bat  (None, 2407, 128)         512       \n",
      " chNormalization)                                                \n",
      "                                                                 \n",
      " conv1d_3 (Conv1D)           (None, 2405, 128)         49280     \n",
      "                                                                 \n",
      " leaky_re_lu_3 (LeakyReLU)   (None, 2405, 128)         0         \n",
      "                                                                 \n",
      " max_pooling1d_3 (MaxPoolin  (None, 801, 128)          0         \n",
      " g1D)                                                            \n",
      "                                                                 \n",
      " batch_normalization_3 (Bat  (None, 801, 128)          512       \n",
      " chNormalization)                                                \n",
      "                                                                 \n",
      " flatten_3 (Flatten)         (None, 102528)            0         \n",
      "                                                                 \n",
      " dense_12 (Dense)            (None, 128)               13123712  \n",
      "                                                                 \n",
      " dropout_1 (Dropout)         (None, 128)               0         \n",
      "                                                                 \n",
      " dense_13 (Dense)            (None, 6)                 774       \n",
      "                                                                 \n",
      "=================================================================\n",
      "Total params: 14575418 (55.60 MB)\n",
      "Trainable params: 13212806 (50.40 MB)\n",
      "Non-trainable params: 1362612 (5.20 MB)\n",
      "_________________________________________________________________\n"
     ]
    }
   ],
   "source": [
    "\n",
    "# Display the model summary\n",
    "model_glove_balanced.summary()"
   ]
  },
  {
   "cell_type": "code",
   "execution_count": 126,
   "metadata": {},
   "outputs": [
    {
     "name": "stderr",
     "output_type": "stream",
     "text": [
      "WARNING:absl:`lr` is deprecated in Keras optimizer, please use `learning_rate` or use the legacy optimizer, e.g.,tf.keras.optimizers.legacy.SGD.\n"
     ]
    }
   ],
   "source": [
    "# Compile the model\n",
    "opt = SGD(lr=0.001)\n",
    "model_glove_balanced.compile(\n",
    "    optimizer=opt,\n",
    "    loss='categorical_crossentropy',\n",
    "    metrics=['accuracy']\n",
    ")"
   ]
  },
  {
   "cell_type": "code",
   "execution_count": 127,
   "metadata": {},
   "outputs": [
    {
     "name": "stdout",
     "output_type": "stream",
     "text": [
      "Epoch 1/15\n",
      "16/16 [==============================] - 27s 2s/step - loss: 5.5867 - accuracy: 0.1984 - val_loss: 1.7886 - val_accuracy: 0.2205\n",
      "Epoch 2/15\n",
      "16/16 [==============================] - 27s 2s/step - loss: 1.7526 - accuracy: 0.2319 - val_loss: 1.7872 - val_accuracy: 0.2323\n",
      "Epoch 3/15\n",
      "16/16 [==============================] - 27s 2s/step - loss: 1.7202 - accuracy: 0.2503 - val_loss: 1.7846 - val_accuracy: 0.2303\n",
      "Epoch 4/15\n",
      "16/16 [==============================] - 27s 2s/step - loss: 1.6914 - accuracy: 0.2792 - val_loss: 1.7797 - val_accuracy: 0.2480\n",
      "Epoch 5/15\n",
      "16/16 [==============================] - 27s 2s/step - loss: 1.6505 - accuracy: 0.3081 - val_loss: 1.7793 - val_accuracy: 0.2480\n",
      "Epoch 6/15\n",
      "16/16 [==============================] - 27s 2s/step - loss: 1.6351 - accuracy: 0.3193 - val_loss: 1.7780 - val_accuracy: 0.2677\n",
      "Epoch 7/15\n",
      "16/16 [==============================] - 27s 2s/step - loss: 1.5828 - accuracy: 0.3226 - val_loss: 1.7707 - val_accuracy: 0.2717\n",
      "Epoch 8/15\n",
      "16/16 [==============================] - 26s 2s/step - loss: 1.5970 - accuracy: 0.3298 - val_loss: 1.7729 - val_accuracy: 0.2638\n",
      "Epoch 9/15\n",
      "16/16 [==============================] - 27s 2s/step - loss: 1.4965 - accuracy: 0.3752 - val_loss: 1.7671 - val_accuracy: 0.2421\n",
      "Epoch 10/15\n",
      "16/16 [==============================] - 27s 2s/step - loss: 1.4640 - accuracy: 0.4159 - val_loss: 1.7690 - val_accuracy: 0.2579\n",
      "Epoch 11/15\n",
      "16/16 [==============================] - 27s 2s/step - loss: 1.3711 - accuracy: 0.4580 - val_loss: 1.7569 - val_accuracy: 0.2362\n",
      "Epoch 12/15\n",
      "16/16 [==============================] - 27s 2s/step - loss: 1.2849 - accuracy: 0.5026 - val_loss: 1.7532 - val_accuracy: 0.2697\n",
      "Epoch 13/15\n",
      "16/16 [==============================] - 27s 2s/step - loss: 1.2369 - accuracy: 0.5243 - val_loss: 1.7569 - val_accuracy: 0.2677\n",
      "Epoch 14/15\n",
      "16/16 [==============================] - 28s 2s/step - loss: 1.1172 - accuracy: 0.5670 - val_loss: 1.7431 - val_accuracy: 0.2520\n",
      "Epoch 15/15\n",
      "16/16 [==============================] - 28s 2s/step - loss: 1.0737 - accuracy: 0.5953 - val_loss: 1.7484 - val_accuracy: 0.2913\n"
     ]
    },
    {
     "data": {
      "text/plain": [
       "<keras.src.callbacks.History at 0x203b3206850>"
      ]
     },
     "execution_count": 127,
     "metadata": {},
     "output_type": "execute_result"
    }
   ],
   "source": [
    "# Train the model on the balanced GloVe embeddings\n",
    "model_glove_balanced.fit(glove100_train_up, train_labels_up,\n",
    "                         validation_data=(glove100_val_up, glove_val_labels_up),\n",
    "                         epochs=15,\n",
    "                         batch_size=100)"
   ]
  },
  {
   "cell_type": "code",
   "execution_count": 128,
   "metadata": {},
   "outputs": [
    {
     "name": "stdout",
     "output_type": "stream",
     "text": [
      "48/48 [==============================] - 6s 133ms/step\n",
      "16/16 [==============================] - 3s 158ms/step\n",
      "Train F1 Score (Balanced GloVe): 0.4532766614463765\n",
      "Test F1 Score (Balanced GloVe): 0.19508396405989692\n"
     ]
    }
   ],
   "source": [
    "# Generate train F1 score\n",
    "train_preds_glove_balanced = model_glove_balanced.predict(glove100_train_up)\n",
    "train_f1_glove_balanced = f1_score(np.argmax(train_preds_glove_balanced, axis=1),\n",
    "                                   np.argmax(train_labels_up, axis=1),\n",
    "                                   average='macro')\n",
    "\n",
    "# Generate test F1 score\n",
    "test_preds_glove_balanced = model_glove_balanced.predict(glove100_test_up)\n",
    "test_f1_glove_balanced = f1_score(np.argmax(test_preds_glove_balanced, axis=1),\n",
    "                                  test_labels_up,\n",
    "                                  average='macro')\n",
    "\n",
    "# Print \n",
    "print(\"Train F1 Score (Balanced GloVe):\", train_f1_glove_balanced)\n",
    "print(\"Test F1 Score (Balanced GloVe):\", test_f1_glove_balanced)"
   ]
  },
  {
   "cell_type": "code",
   "execution_count": 129,
   "metadata": {},
   "outputs": [
    {
     "data": {
      "text/plain": [
       "{'model': 'CNN- GloVe_Balanced', 'train_f1': 0.453, 'test_f1': 0.195}"
      ]
     },
     "execution_count": 129,
     "metadata": {},
     "output_type": "execute_result"
    }
   ],
   "source": [
    "# Add the results to classifier_results\n",
    "data_glove_balanced = {\n",
    "    'model': 'CNN- GloVe_Balanced',\n",
    "    'train_f1': round(train_f1_glove_balanced, 3),\n",
    "    'test_f1': round(test_f1_glove_balanced, 3)\n",
    "}\n",
    "\n",
    "classifier_results.append(data_glove_balanced)\n",
    "data_glove_balanced"
   ]
  },
  {
   "cell_type": "code",
   "execution_count": 133,
   "metadata": {},
   "outputs": [
    {
     "data": {
      "image/png": "[encoded data removed]",
      "text/plain": [
       "<Figure size 800x600 with 2 Axes>"
      ]
     },
     "metadata": {},
     "output_type": "display_data"
    }
   ],
   "source": [
    "# Create the confusion matrix \n",
    "conf_matrix_glove_balanced = confusion_matrix(test_labels_up, predicted_labels_glove_balanced)\n",
    "\n",
    "# Visualize the confusion matrix\n",
    "plt.figure(figsize=(8, 6))\n",
    "sns.heatmap(conf_matrix_glove_balanced, annot=True, fmt='d', cmap='viridis')\n",
    "plt.title('Confusion Matrix - CNN GloVe_Balanced')\n",
    "plt.xlabel('Predicted')\n",
    "plt.ylabel('True')\n",
    "plt.show()"
   ]
  },
  {
   "cell_type": "code",
   "execution_count": 130,
   "metadata": {},
   "outputs": [
    {
     "data": {
      "text/html": [
       "<div>\n",
       "<style scoped>\n",
       "    .dataframe tbody tr th:only-of-type {\n",
       "        vertical-align: middle;\n",
       "    }\n",
       "\n",
       "    .dataframe tbody tr th {\n",
       "        vertical-align: top;\n",
       "    }\n",
       "\n",
       "    .dataframe thead th {\n",
       "        text-align: right;\n",
       "    }\n",
       "</style>\n",
       "<table border=\"1\" class=\"dataframe\">\n",
       "  <thead>\n",
       "    <tr style=\"text-align: right;\">\n",
       "      <th></th>\n",
       "      <th>model</th>\n",
       "      <th>train_f1</th>\n",
       "      <th>val_f1</th>\n",
       "      <th>test_f1</th>\n",
       "    </tr>\n",
       "  </thead>\n",
       "  <tbody>\n",
       "    <tr>\n",
       "      <th>0</th>\n",
       "      <td>RF TF-IDF</td>\n",
       "      <td>0.941</td>\n",
       "      <td>0.226</td>\n",
       "      <td>0.259</td>\n",
       "    </tr>\n",
       "    <tr>\n",
       "      <th>1</th>\n",
       "      <td>DNN- GloVe</td>\n",
       "      <td>0.978</td>\n",
       "      <td>NaN</td>\n",
       "      <td>0.247</td>\n",
       "    </tr>\n",
       "    <tr>\n",
       "      <th>2</th>\n",
       "      <td>DNN- TF-IDF</td>\n",
       "      <td>0.440</td>\n",
       "      <td>NaN</td>\n",
       "      <td>0.273</td>\n",
       "    </tr>\n",
       "    <tr>\n",
       "      <th>3</th>\n",
       "      <td>CNN- GloVe</td>\n",
       "      <td>0.183</td>\n",
       "      <td>NaN</td>\n",
       "      <td>0.154</td>\n",
       "    </tr>\n",
       "    <tr>\n",
       "      <th>4</th>\n",
       "      <td>RF TF-IDF Balanced</td>\n",
       "      <td>0.970</td>\n",
       "      <td>0.336</td>\n",
       "      <td>0.969</td>\n",
       "    </tr>\n",
       "    <tr>\n",
       "      <th>5</th>\n",
       "      <td>DNN-GloVe_Balanced</td>\n",
       "      <td>0.990</td>\n",
       "      <td>NaN</td>\n",
       "      <td>0.232</td>\n",
       "    </tr>\n",
       "    <tr>\n",
       "      <th>6</th>\n",
       "      <td>DNN- TF-IDF_Balanced</td>\n",
       "      <td>0.459</td>\n",
       "      <td>NaN</td>\n",
       "      <td>0.327</td>\n",
       "    </tr>\n",
       "    <tr>\n",
       "      <th>7</th>\n",
       "      <td>CNN- GloVe_Balanced</td>\n",
       "      <td>0.453</td>\n",
       "      <td>NaN</td>\n",
       "      <td>0.195</td>\n",
       "    </tr>\n",
       "  </tbody>\n",
       "</table>\n",
       "</div>"
      ],
      "text/plain": [
       "                  model  train_f1  val_f1  test_f1\n",
       "0             RF TF-IDF     0.941   0.226    0.259\n",
       "1            DNN- GloVe     0.978     NaN    0.247\n",
       "2           DNN- TF-IDF     0.440     NaN    0.273\n",
       "3            CNN- GloVe     0.183     NaN    0.154\n",
       "4    RF TF-IDF Balanced     0.970   0.336    0.969\n",
       "5    DNN-GloVe_Balanced     0.990     NaN    0.232\n",
       "6  DNN- TF-IDF_Balanced     0.459     NaN    0.327\n",
       "7   CNN- GloVe_Balanced     0.453     NaN    0.195"
      ]
     },
     "execution_count": 130,
     "metadata": {},
     "output_type": "execute_result"
    }
   ],
   "source": [
    "pd.DataFrame(classifier_results)"
   ]
  },
  {
   "cell_type": "code",
   "execution_count": null,
   "metadata": {},
   "outputs": [],
   "source": []
  }
 ],
 "metadata": {
  "kernelspec": {
   "display_name": "venv4-kernel",
   "language": "python",
   "name": "venv4-kernel"
  },
  "language_info": {
   "codemirror_mode": {
    "name": "ipython",
    "version": 3
   },
   "file_extension": ".py",
   "mimetype": "text/x-python",
   "name": "python",
   "nbconvert_exporter": "python",
   "pygments_lexer": "ipython3",
   "version": "3.8.2"
  }
 },
 "nbformat": 4,
 "nbformat_minor": 4
}
